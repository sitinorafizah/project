{
  "metadata": {
    "kernelspec": {
      "language": "python",
      "display_name": "Python 3",
      "name": "python3"
    },
    "language_info": {
      "pygments_lexer": "ipython3",
      "nbconvert_exporter": "python",
      "version": "3.6.4",
      "file_extension": ".py",
      "codemirror_mode": {
        "name": "ipython",
        "version": 3
      },
      "name": "python",
      "mimetype": "text/x-python"
    },
    "kaggle": {
      "accelerator": "none",
      "dataSources": [
        {
          "sourceId": 423331,
          "sourceType": "datasetVersion",
          "datasetId": 189687
        }
      ],
      "dockerImageVersionId": 30157,
      "isInternetEnabled": true,
      "language": "python",
      "sourceType": "notebook",
      "isGpuEnabled": false
    },
    "colab": {
      "provenance": [],
      "include_colab_link": true
    }
  },
  "nbformat_minor": 0,
  "nbformat": 4,
  "cells": [
    {
      "cell_type": "markdown",
      "metadata": {
        "id": "view-in-github",
        "colab_type": "text"
      },
      "source": [
        "<a href=\"https://colab.research.google.com/github/sitinorafizah/project/blob/main/Lab%20Exercise/LE_2a_EDA_Big_Data_ipynb.ipynb\" target=\"_parent\"><img src=\"https://colab.research.google.com/assets/colab-badge.svg\" alt=\"Open In Colab\"/></a>"
      ]
    },
    {
      "cell_type": "markdown",
      "source": [
        "# Exploratory Data Analysis of 7+ million company dataset"
      ],
      "metadata": {
        "id": "FV-MAeLHOKbv"
      }
    },
    {
      "cell_type": "markdown",
      "source": [
        "## Objective"
      ],
      "metadata": {
        "id": "rMQ0C380OKb0"
      }
    },
    {
      "cell_type": "markdown",
      "source": [
        "* What can we learn about business names?\n",
        "* How can we use these insights?"
      ],
      "metadata": {
        "id": "IES5ITnYOKb1"
      }
    },
    {
      "cell_type": "markdown",
      "source": [
        "## Imports"
      ],
      "metadata": {
        "cell_id": "00001-9053abbc-fee3-4e98-b9e9-165875057087",
        "deepnote_cell_type": "markdown",
        "id": "petL139oOKb2"
      }
    },
    {
      "cell_type": "code",
      "source": [
        "pip install geotext"
      ],
      "metadata": {
        "execution": {
          "iopub.status.busy": "2022-02-02T18:46:05.401053Z",
          "iopub.execute_input": "2022-02-02T18:46:05.401467Z",
          "iopub.status.idle": "2022-02-02T18:46:17.185047Z",
          "shell.execute_reply.started": "2022-02-02T18:46:05.401362Z",
          "shell.execute_reply": "2022-02-02T18:46:17.184023Z"
        },
        "_kg_hide-input": true,
        "trusted": true,
        "id": "DGN9tqmyOKb2"
      },
      "execution_count": null,
      "outputs": []
    },
    {
      "cell_type": "code",
      "source": [
        "pip install -U kaleido"
      ],
      "metadata": {
        "execution": {
          "iopub.status.busy": "2022-02-02T18:46:17.187315Z",
          "iopub.execute_input": "2022-02-02T18:46:17.187568Z",
          "iopub.status.idle": "2022-02-02T18:46:31.540316Z",
          "shell.execute_reply.started": "2022-02-02T18:46:17.187538Z",
          "shell.execute_reply": "2022-02-02T18:46:31.539324Z"
        },
        "_kg_hide-input": true,
        "trusted": true,
        "id": "xXUXAAO4OKb3"
      },
      "execution_count": null,
      "outputs": []
    },
    {
      "cell_type": "code",
      "source": [
        "import numpy as np\n",
        "import pandas as pd\n",
        "import geopandas as gpd\n",
        "import geotext\n",
        "import collections\n",
        "import string, sys, os, re\n",
        "import warnings\n",
        "import matplotlib.pyplot as plt\n",
        "import seaborn as sns\n",
        "import plotly.express as px\n",
        "import plotly.io as pio\n",
        "from IPython.display import Image\n",
        "from functools import reduce\n",
        "from wordcloud import WordCloud, STOPWORDS, ImageColorGenerator"
      ],
      "metadata": {
        "cell_id": "00002-dc6e7739-3c5e-412e-827c-200e322ca58d",
        "deepnote_cell_type": "code",
        "deepnote_to_be_reexecuted": false,
        "execution_millis": 3664,
        "execution_start": 1639566814980,
        "source_hash": "54982d94",
        "execution": {
          "iopub.status.busy": "2022-02-02T18:46:31.541825Z",
          "iopub.execute_input": "2022-02-02T18:46:31.542087Z",
          "iopub.status.idle": "2022-02-02T18:46:34.617064Z",
          "shell.execute_reply.started": "2022-02-02T18:46:31.542058Z",
          "shell.execute_reply": "2022-02-02T18:46:34.616163Z"
        },
        "_kg_hide-output": true,
        "trusted": true,
        "id": "ZKJTWnlTOKb4"
      },
      "execution_count": null,
      "outputs": []
    },
    {
      "cell_type": "code",
      "source": [
        "warnings.filterwarnings('ignore')"
      ],
      "metadata": {
        "cell_id": "00004-316df7d4-fcca-4866-b380-39a22ce3997d",
        "deepnote_cell_type": "code",
        "deepnote_to_be_reexecuted": false,
        "execution_millis": 2,
        "execution_start": 1639566825664,
        "source_hash": "c9b184e3",
        "execution": {
          "iopub.status.busy": "2022-02-02T18:46:34.619014Z",
          "iopub.execute_input": "2022-02-02T18:46:34.61926Z",
          "iopub.status.idle": "2022-02-02T18:46:34.623787Z",
          "shell.execute_reply.started": "2022-02-02T18:46:34.619215Z",
          "shell.execute_reply": "2022-02-02T18:46:34.623223Z"
        },
        "trusted": true,
        "id": "MBin1jOrOKb5"
      },
      "execution_count": null,
      "outputs": []
    },
    {
      "cell_type": "markdown",
      "source": [
        "## Helper functions and classes"
      ],
      "metadata": {
        "id": "HVU9CE7uOKb6"
      }
    },
    {
      "cell_type": "code",
      "source": [
        "class DfOverview:\n",
        "    \"\"\"\n",
        "        Give an overview for a given data frame,\n",
        "        like null persentage for each columns,\n",
        "        unique value percentage for each columns and more\n",
        "    \"\"\"\n",
        "\n",
        "    def __init__(self, df: pd.DataFrame) -> None:\n",
        "        self.df = df\n",
        "\n",
        "    def missing_value(self) -> None:\n",
        "        nullSum = self.df.isna().sum()\n",
        "        return [col for col in nullSum]\n",
        "\n",
        "    def percentage(self, list):\n",
        "        return [str(round(((value / self.df.shape[0]) * 100), 2)) + '%' for value in list]\n",
        "\n",
        "    def getOverview(self) -> None:\n",
        "\n",
        "        _columns = [column for column in self.df]\n",
        "        _count = self.df.count().values\n",
        "        _unique = [self.df[column].value_counts().shape[0] for column in self.df]\n",
        "        _missing_values = self.missing_value()\n",
        "\n",
        "        columns = [\n",
        "            'Column',\n",
        "            'count',\n",
        "            'missing_value_count',\n",
        "            'Missing_value_percentage',\n",
        "            'unique_value_count',\n",
        "            'unique_value_percentage',\n",
        "            'dtype']\n",
        "        data = zip(\n",
        "            _columns,\n",
        "            _count,\n",
        "            _missing_values,\n",
        "            self.percentage(_missing_values),\n",
        "            _unique,\n",
        "            self.percentage(_unique),\n",
        "            self.df.dtypes\n",
        "        )\n",
        "        new_df = pd.DataFrame(data=data, columns=columns)\n",
        "        return new_df"
      ],
      "metadata": {
        "execution": {
          "iopub.status.busy": "2022-02-02T18:46:34.624893Z",
          "iopub.execute_input": "2022-02-02T18:46:34.625516Z",
          "iopub.status.idle": "2022-02-02T18:46:34.642389Z",
          "shell.execute_reply.started": "2022-02-02T18:46:34.625485Z",
          "shell.execute_reply": "2022-02-02T18:46:34.64141Z"
        },
        "_kg_hide-input": true,
        "trusted": true,
        "id": "SgRrRrlCOKb6"
      },
      "execution_count": null,
      "outputs": []
    },
    {
      "cell_type": "code",
      "source": [
        "def show_cols_mixed_dtypes(df):\n",
        "    mixed_dtypes = {'Column': [], 'Data type': []}\n",
        "    for col in df.columns:\n",
        "        dtype = pd.api.types.infer_dtype(df[col])\n",
        "        if dtype.startswith(\"mixed\"):\n",
        "            mixed_dtypes['Column'].append(col)\n",
        "            mixed_dtypes['Data type'].append(dtype)\n",
        "    if len(mixed_dtypes['Column']) == 0:\n",
        "        print('None of the columns contain mixed types.')\n",
        "    else:\n",
        "        print(pd.DataFrame(mixed_dtypes))"
      ],
      "metadata": {
        "execution": {
          "iopub.status.busy": "2022-02-02T18:46:34.643701Z",
          "iopub.execute_input": "2022-02-02T18:46:34.644391Z",
          "iopub.status.idle": "2022-02-02T18:46:34.653746Z",
          "shell.execute_reply.started": "2022-02-02T18:46:34.644348Z",
          "shell.execute_reply": "2022-02-02T18:46:34.653136Z"
        },
        "_kg_hide-input": true,
        "trusted": true,
        "id": "UQcWZ_q2OKb7"
      },
      "execution_count": null,
      "outputs": []
    },
    {
      "cell_type": "code",
      "source": [
        "def percent_missing_values(df):\n",
        "\n",
        "    # Calculate total number of cells in dataframe\n",
        "    totalCells = np.product(df.shape)\n",
        "\n",
        "    # Count number of missing values per column\n",
        "    missingCount = df.isnull().sum()\n",
        "\n",
        "    # Calculate total number of missing values\n",
        "    totalMissing = missingCount.sum()\n",
        "\n",
        "    # Calculate percentage of missing values\n",
        "    print(\"The dataset contains\", round(((totalMissing/totalCells) * 100), 2), \"%\", \"missing values.\")"
      ],
      "metadata": {
        "execution": {
          "iopub.status.busy": "2022-02-02T18:46:34.655066Z",
          "iopub.execute_input": "2022-02-02T18:46:34.655733Z",
          "iopub.status.idle": "2022-02-02T18:46:34.667801Z",
          "shell.execute_reply.started": "2022-02-02T18:46:34.655697Z",
          "shell.execute_reply": "2022-02-02T18:46:34.667054Z"
        },
        "_kg_hide-input": true,
        "trusted": true,
        "id": "PPNZ7A_xOKb8"
      },
      "execution_count": null,
      "outputs": []
    },
    {
      "cell_type": "code",
      "source": [
        "def missing_values_table(df):\n",
        "    # Total missing values\n",
        "    mis_val = df.isnull().sum()\n",
        "\n",
        "    # Percentage of missing values\n",
        "    mis_val_percent = 100 * mis_val / len(df)\n",
        "\n",
        "    # dtype of missing values\n",
        "    mis_val_dtype = df.dtypes\n",
        "\n",
        "    # Make a table with the results\n",
        "    mis_val_table = pd.concat([mis_val, mis_val_percent, mis_val_dtype], axis=1)\n",
        "\n",
        "    # Rename the columns\n",
        "    mis_val_table_ren_columns = mis_val_table.rename(\n",
        "    columns = {0 : 'Missing Values', 1 : '% of Total Values', 2: 'Dtype'})\n",
        "\n",
        "    # Sort the table by percentage of missing descending and remove columns with no missing values\n",
        "    mis_val_table_ren_columns = mis_val_table_ren_columns[\n",
        "        mis_val_table_ren_columns.iloc[:,0] != 0].sort_values(\n",
        "    '% of Total Values', ascending=False).round(2)\n",
        "\n",
        "    # Print some summary information\n",
        "    print (\"Your selected dataframe has \" + str(df.shape[1]) + \" columns.\\n\"\n",
        "        \"There are \" + str(mis_val_table_ren_columns.shape[0]) +\n",
        "          \" columns that have missing values.\")\n",
        "\n",
        "    if mis_val_table_ren_columns.shape[0] == 0:\n",
        "        return\n",
        "\n",
        "    # Return the dataframe with missing information\n",
        "    return mis_val_table_ren_columns"
      ],
      "metadata": {
        "execution": {
          "iopub.status.busy": "2022-02-02T18:46:34.669067Z",
          "iopub.execute_input": "2022-02-02T18:46:34.669511Z",
          "iopub.status.idle": "2022-02-02T18:46:34.678796Z",
          "shell.execute_reply.started": "2022-02-02T18:46:34.66947Z",
          "shell.execute_reply": "2022-02-02T18:46:34.678103Z"
        },
        "_kg_hide-input": true,
        "trusted": true,
        "id": "pnxkcTnCOKb9"
      },
      "execution_count": null,
      "outputs": []
    },
    {
      "cell_type": "code",
      "source": [
        "def convert_to_string(df, columns):\n",
        "    for col in columns:\n",
        "        df[col] = df[col].astype(\"string\")"
      ],
      "metadata": {
        "execution": {
          "iopub.status.busy": "2022-02-02T18:46:34.680017Z",
          "iopub.execute_input": "2022-02-02T18:46:34.680444Z",
          "iopub.status.idle": "2022-02-02T18:46:34.692947Z",
          "shell.execute_reply.started": "2022-02-02T18:46:34.680412Z",
          "shell.execute_reply": "2022-02-02T18:46:34.692211Z"
        },
        "_kg_hide-input": true,
        "trusted": true,
        "id": "aNLw0ZONOKb9"
      },
      "execution_count": null,
      "outputs": []
    },
    {
      "cell_type": "code",
      "source": [
        "def drop_duplicates(df):\n",
        "    old = df.shape[0]\n",
        "    df.drop_duplicates(inplace=True)\n",
        "    new = df.shape[0]\n",
        "    count = old - new\n",
        "    if (count == 0):\n",
        "        print(\"No duplicate rows were found.\")\n",
        "    else:\n",
        "        print(f\"{count} duplicate rows were found and removed.\")\n",
        "\n",
        "def plot_dist(df:pd.DataFrame, column:str, color:str='cornflowerblue')->None:\n",
        "    sns.displot(data=df, x=column, color=color,  kde=False, height=6, aspect=2)\n",
        "    plt.title(f'Distribution of {column}', size=20, fontweight='bold')\n",
        "    plt.show()\n",
        "\n",
        "def plotly_plot_bar(df, x, y, title=None, width=800, color=['cornflowerblue']):\n",
        "    if title == None:\n",
        "        title=f'Distribution of {x}'\n",
        "    fig = px.bar(df, x=x, y=y, title=title)\n",
        "    return Image(pio.to_image(fig, format='png', width=width))\n",
        "\n",
        "def plotly_plot_pie(df, column, title=None, width=800, limit=None):\n",
        "    a = pd.DataFrame({'count': df.groupby([column]).size()}).reset_index()\n",
        "    a = a.sort_values(\"count\", ascending=False)\n",
        "    if limit:\n",
        "        a.loc[a['count'] < limit, column] = f'Other {column}s'\n",
        "    if title == None:\n",
        "        title=f'Distribution of {column}'\n",
        "    fig = px.pie(a, values='count', names=column, title=title)\n",
        "    return Image(pio.to_image(fig, format='png', width=width))"
      ],
      "metadata": {
        "execution": {
          "iopub.status.busy": "2022-02-02T18:46:34.695698Z",
          "iopub.execute_input": "2022-02-02T18:46:34.696188Z",
          "iopub.status.idle": "2022-02-02T18:46:34.71049Z",
          "shell.execute_reply.started": "2022-02-02T18:46:34.696141Z",
          "shell.execute_reply": "2022-02-02T18:46:34.709824Z"
        },
        "_kg_hide-input": true,
        "trusted": true,
        "id": "2wcaokv8OKb9"
      },
      "execution_count": null,
      "outputs": []
    },
    {
      "cell_type": "markdown",
      "source": [
        "## Data Reading"
      ],
      "metadata": {
        "cell_id": "00005-587400ed-3f2c-4c5f-888e-af99e57d0b75",
        "deepnote_cell_type": "markdown",
        "id": "oSEd2Ae5OKb-"
      }
    },
    {
      "cell_type": "code",
      "source": [
        "# reading the companies_sorted csv file\n",
        "df = pd.read_csv(\"../input/free-7-million-company-dataset/companies_sorted.csv\")\n",
        "df"
      ],
      "metadata": {
        "cell_id": "00007-afb8be3c-1737-4769-8d9f-b8303a6fcf90",
        "deepnote_cell_type": "code",
        "deepnote_to_be_reexecuted": false,
        "execution_millis": 33180,
        "execution_start": 1639566840617,
        "source_hash": "a8dc5b4f",
        "execution": {
          "iopub.status.busy": "2022-02-02T18:46:34.711906Z",
          "iopub.execute_input": "2022-02-02T18:46:34.713474Z",
          "iopub.status.idle": "2022-02-02T18:47:16.657672Z",
          "shell.execute_reply.started": "2022-02-02T18:46:34.713426Z",
          "shell.execute_reply": "2022-02-02T18:47:16.656636Z"
        },
        "trusted": true,
        "id": "kXDUd8ulOKb-"
      },
      "execution_count": null,
      "outputs": []
    },
    {
      "cell_type": "markdown",
      "source": [
        "## General Statistics"
      ],
      "metadata": {
        "cell_id": "00008-60de4023-8687-4adc-a69e-91371549bc00",
        "deepnote_cell_type": "markdown",
        "id": "ScmZ8xSQOKb-"
      }
    },
    {
      "cell_type": "code",
      "source": [
        "# number of elements(cells) in the df\n",
        "df.size"
      ],
      "metadata": {
        "cell_id": "00009-0c520b88-844b-4627-9dbd-44871e74f70e",
        "deepnote_cell_type": "code",
        "deepnote_to_be_reexecuted": false,
        "execution_millis": 10,
        "execution_start": 1639566913871,
        "source_hash": "8c2c4a83",
        "execution": {
          "iopub.status.busy": "2022-02-02T18:47:16.659087Z",
          "iopub.execute_input": "2022-02-02T18:47:16.659765Z",
          "iopub.status.idle": "2022-02-02T18:47:16.665827Z",
          "shell.execute_reply.started": "2022-02-02T18:47:16.659716Z",
          "shell.execute_reply": "2022-02-02T18:47:16.665279Z"
        },
        "trusted": true,
        "id": "xUHrBKdqOKb-"
      },
      "execution_count": null,
      "outputs": []
    },
    {
      "cell_type": "code",
      "source": [
        "# rows and columns in the df\n",
        "df.shape"
      ],
      "metadata": {
        "cell_id": "00010-4b5739ec-96d3-45e2-8e0b-16c7521731cc",
        "deepnote_cell_type": "code",
        "deepnote_to_be_reexecuted": false,
        "execution_millis": 0,
        "execution_start": 1639566239596,
        "source_hash": "38391613",
        "execution": {
          "iopub.status.busy": "2022-02-02T18:47:16.666931Z",
          "iopub.execute_input": "2022-02-02T18:47:16.667323Z",
          "iopub.status.idle": "2022-02-02T18:47:16.679761Z",
          "shell.execute_reply.started": "2022-02-02T18:47:16.667282Z",
          "shell.execute_reply": "2022-02-02T18:47:16.678921Z"
        },
        "trusted": true,
        "id": "dGEZj6aoOKb-"
      },
      "execution_count": null,
      "outputs": []
    },
    {
      "cell_type": "code",
      "source": [
        "df.info()"
      ],
      "metadata": {
        "cell_id": "00011-9676a2c9-52b4-4eed-8ecd-bb1685826d30",
        "deepnote_cell_type": "code",
        "deepnote_to_be_reexecuted": false,
        "execution_millis": 17,
        "execution_start": 1639566244064,
        "source_hash": "de1e323c",
        "execution": {
          "iopub.status.busy": "2022-02-02T18:47:16.680932Z",
          "iopub.execute_input": "2022-02-02T18:47:16.681171Z",
          "iopub.status.idle": "2022-02-02T18:47:16.703187Z",
          "shell.execute_reply.started": "2022-02-02T18:47:16.681137Z",
          "shell.execute_reply": "2022-02-02T18:47:16.702524Z"
        },
        "trusted": true,
        "id": "0ohnw20kOKb_"
      },
      "execution_count": null,
      "outputs": []
    },
    {
      "cell_type": "code",
      "source": [
        "df_overview = DfOverview(df)\n",
        "df_overview.getOverview()"
      ],
      "metadata": {
        "execution": {
          "iopub.status.busy": "2022-02-02T18:47:16.704286Z",
          "iopub.execute_input": "2022-02-02T18:47:16.704812Z",
          "iopub.status.idle": "2022-02-02T18:47:58.342439Z",
          "shell.execute_reply.started": "2022-02-02T18:47:16.704778Z",
          "shell.execute_reply": "2022-02-02T18:47:58.341419Z"
        },
        "trusted": true,
        "id": "cDDKRpO2OKb_"
      },
      "execution_count": null,
      "outputs": []
    },
    {
      "cell_type": "markdown",
      "source": [
        "Here we can see detailed informations of the columns including the amount missing and unique values."
      ],
      "metadata": {
        "id": "dDp8oUStOKb_"
      }
    },
    {
      "cell_type": "markdown",
      "source": [
        "## Dropping unnecessary Columns"
      ],
      "metadata": {
        "tags": [],
        "id": "GGabwOGROKb_"
      }
    },
    {
      "cell_type": "markdown",
      "source": [
        "The column 'Unamed: 0' most of the times represents the index when we save our dataframe to csv along with our index. In this is the case, since each index is unique and not actually related to each row, removing it is advisable. Let us check its uniqueness."
      ],
      "metadata": {
        "id": "MvTZLnd2OKb_"
      }
    },
    {
      "cell_type": "code",
      "source": [
        "# comparing the number of unique values of 'Unnamed: 0' and the number of rows\n",
        "len(df['Unnamed: 0'].unique()) == df.shape[0]"
      ],
      "metadata": {
        "execution": {
          "iopub.status.busy": "2022-02-02T18:47:58.344104Z",
          "iopub.execute_input": "2022-02-02T18:47:58.344464Z",
          "iopub.status.idle": "2022-02-02T18:47:59.245648Z",
          "shell.execute_reply.started": "2022-02-02T18:47:58.344421Z",
          "shell.execute_reply": "2022-02-02T18:47:59.244639Z"
        },
        "trusted": true,
        "id": "jooabqY8OKb_"
      },
      "execution_count": null,
      "outputs": []
    },
    {
      "cell_type": "markdown",
      "source": [
        "Since my assumption is correct, I will remove the column."
      ],
      "metadata": {
        "id": "rKm4SJvWOKb_"
      }
    },
    {
      "cell_type": "code",
      "source": [
        "df.drop(columns=['Unnamed: 0'], inplace=True)"
      ],
      "metadata": {
        "execution": {
          "iopub.status.busy": "2022-02-02T18:47:59.247216Z",
          "iopub.execute_input": "2022-02-02T18:47:59.247569Z",
          "iopub.status.idle": "2022-02-02T18:48:00.074655Z",
          "shell.execute_reply.started": "2022-02-02T18:47:59.247519Z",
          "shell.execute_reply": "2022-02-02T18:48:00.073811Z"
        },
        "trusted": true,
        "id": "BDyvS5rwOKb_"
      },
      "execution_count": null,
      "outputs": []
    },
    {
      "cell_type": "markdown",
      "source": [
        "## Missing Values"
      ],
      "metadata": {
        "cell_id": "00012-4c1020c9-7fb9-42b4-8d0a-db55fffcc935",
        "deepnote_cell_type": "markdown",
        "id": "8ieXrPrlOKcA"
      }
    },
    {
      "cell_type": "code",
      "source": [
        "percent_missing_values(df)"
      ],
      "metadata": {
        "cell_id": "00013-1cd23c57-0830-44b9-968b-7abd056fe7fd",
        "deepnote_cell_type": "code",
        "deepnote_to_be_reexecuted": false,
        "execution_millis": 2596,
        "execution_start": 1639566418977,
        "source_hash": "87db8357",
        "execution": {
          "iopub.status.busy": "2022-02-02T18:48:00.076258Z",
          "iopub.execute_input": "2022-02-02T18:48:00.076601Z",
          "iopub.status.idle": "2022-02-02T18:48:05.069143Z",
          "shell.execute_reply.started": "2022-02-02T18:48:00.076524Z",
          "shell.execute_reply": "2022-02-02T18:48:05.06828Z"
        },
        "trusted": true,
        "id": "4attVR_OOKcA"
      },
      "execution_count": null,
      "outputs": []
    },
    {
      "cell_type": "code",
      "source": [
        "missing_values_table(df)"
      ],
      "metadata": {
        "cell_id": "00014-99f755a3-139a-495c-833f-67cc418c7fdb",
        "deepnote_cell_type": "code",
        "deepnote_to_be_reexecuted": false,
        "execution_millis": 2737,
        "execution_start": 1639566423653,
        "source_hash": "58e50bff",
        "execution": {
          "iopub.status.busy": "2022-02-02T18:48:05.07054Z",
          "iopub.execute_input": "2022-02-02T18:48:05.071448Z",
          "iopub.status.idle": "2022-02-02T18:48:10.229862Z",
          "shell.execute_reply.started": "2022-02-02T18:48:05.071404Z",
          "shell.execute_reply": "2022-02-02T18:48:10.22879Z"
        },
        "trusted": true,
        "id": "pv5nitDOOKcA"
      },
      "execution_count": null,
      "outputs": []
    },
    {
      "cell_type": "markdown",
      "source": [
        "From the missing table we can see that there are 6 columns with missing values. But name and industry are very necessary. So we will remove rows with null values in these columns."
      ],
      "metadata": {
        "cell_id": "00016-c6e0a7fe-7767-43d2-9d52-b91a270972bb",
        "deepnote_cell_type": "markdown",
        "id": "NejUKRM4OKcA"
      }
    },
    {
      "cell_type": "code",
      "source": [
        "df.drop(df.index[df.name.isna()], inplace=True)\n",
        "df.drop(df.index[df.industry.isna()], inplace=True)"
      ],
      "metadata": {
        "execution": {
          "iopub.status.busy": "2022-02-02T18:48:10.231032Z",
          "iopub.execute_input": "2022-02-02T18:48:10.231277Z",
          "iopub.status.idle": "2022-02-02T18:48:14.689829Z",
          "shell.execute_reply.started": "2022-02-02T18:48:10.23122Z",
          "shell.execute_reply": "2022-02-02T18:48:14.688937Z"
        },
        "trusted": true,
        "id": "Xx9xZCz8OKcA"
      },
      "execution_count": null,
      "outputs": []
    },
    {
      "cell_type": "code",
      "source": [
        "missing_values_table(df)"
      ],
      "metadata": {
        "cell_id": "00051-7579b0c4-748c-4e82-a192-c26c32666eaf",
        "deepnote_cell_type": "code",
        "execution": {
          "iopub.status.busy": "2022-02-02T18:48:14.690997Z",
          "iopub.execute_input": "2022-02-02T18:48:14.691249Z",
          "iopub.status.idle": "2022-02-02T18:48:19.583259Z",
          "shell.execute_reply.started": "2022-02-02T18:48:14.691208Z",
          "shell.execute_reply": "2022-02-02T18:48:19.582496Z"
        },
        "trusted": true,
        "id": "Kg_EmzzvOKcA"
      },
      "execution_count": null,
      "outputs": []
    },
    {
      "cell_type": "markdown",
      "source": [
        "## Data Types"
      ],
      "metadata": {
        "cell_id": "00059-fa99b543-ad0b-4d2e-9b28-da5f69d95d53",
        "deepnote_cell_type": "markdown",
        "id": "-KA8rFzEOKcB"
      }
    },
    {
      "cell_type": "markdown",
      "source": [
        "Let's check if there are columns with mixed data types."
      ],
      "metadata": {
        "cell_id": "00061-1d3aff34-5434-404e-8e89-6f0e3e4aabc5",
        "deepnote_cell_type": "markdown",
        "id": "ac80Ibc2OKcB"
      }
    },
    {
      "cell_type": "code",
      "source": [
        "show_cols_mixed_dtypes(df)"
      ],
      "metadata": {
        "cell_id": "00062-7c739b78-e093-4a3d-a692-a99140677e69",
        "deepnote_cell_type": "code",
        "execution": {
          "iopub.status.busy": "2022-02-02T18:48:19.584473Z",
          "iopub.execute_input": "2022-02-02T18:48:19.584697Z",
          "iopub.status.idle": "2022-02-02T18:48:25.831194Z",
          "shell.execute_reply.started": "2022-02-02T18:48:19.58467Z",
          "shell.execute_reply": "2022-02-02T18:48:25.830195Z"
        },
        "trusted": true,
        "id": "IhBe2bHPOKcB"
      },
      "execution_count": null,
      "outputs": []
    },
    {
      "cell_type": "code",
      "source": [
        "df.dtypes"
      ],
      "metadata": {
        "cell_id": "00063-1e19efd0-666c-4e3f-8802-88ebbc982204",
        "deepnote_cell_type": "code",
        "execution": {
          "iopub.status.busy": "2022-02-02T18:48:25.832449Z",
          "iopub.execute_input": "2022-02-02T18:48:25.832756Z",
          "iopub.status.idle": "2022-02-02T18:48:25.839708Z",
          "shell.execute_reply.started": "2022-02-02T18:48:25.832713Z",
          "shell.execute_reply": "2022-02-02T18:48:25.839138Z"
        },
        "trusted": true,
        "id": "AiDvyfYEOKcB"
      },
      "execution_count": null,
      "outputs": []
    },
    {
      "cell_type": "code",
      "source": [
        "df.head()"
      ],
      "metadata": {
        "cell_id": "00064-4f714648-e554-4301-8e40-2fe16f4eb169",
        "deepnote_cell_type": "code",
        "execution": {
          "iopub.status.busy": "2022-02-02T18:48:25.840447Z",
          "iopub.execute_input": "2022-02-02T18:48:25.840645Z",
          "iopub.status.idle": "2022-02-02T18:48:25.864883Z",
          "shell.execute_reply.started": "2022-02-02T18:48:25.84062Z",
          "shell.execute_reply": "2022-02-02T18:48:25.863953Z"
        },
        "trusted": true,
        "id": "nJDt6QRyOKcB"
      },
      "execution_count": null,
      "outputs": []
    },
    {
      "cell_type": "markdown",
      "source": [
        "As we can see from above 'name', 'domain', 'industry', 'size range', 'locality', 'country' and 'linkedin url' hold string values. In addition to this we also know that 'year founded' should hold integer values. Therefore, we will convert these columns to their respective correct data types."
      ],
      "metadata": {
        "cell_id": "00065-09c8806a-814c-49b9-b21b-8e837d4a3f72",
        "deepnote_cell_type": "markdown",
        "id": "2ztLcOrZOKcG"
      }
    },
    {
      "cell_type": "code",
      "source": [
        "# get the columns with object data type\n",
        "string_columns = df.select_dtypes(include='object').columns.tolist()\n",
        "string_columns"
      ],
      "metadata": {
        "cell_id": "00066-075d553e-0660-4f51-8056-f0d1fa7817f6",
        "deepnote_cell_type": "code",
        "execution": {
          "iopub.status.busy": "2022-02-02T18:48:25.866434Z",
          "iopub.execute_input": "2022-02-02T18:48:25.866765Z",
          "iopub.status.idle": "2022-02-02T18:48:26.656445Z",
          "shell.execute_reply.started": "2022-02-02T18:48:25.866732Z",
          "shell.execute_reply": "2022-02-02T18:48:26.655559Z"
        },
        "trusted": true,
        "id": "R6o4quLEOKcG"
      },
      "execution_count": null,
      "outputs": []
    },
    {
      "cell_type": "code",
      "source": [
        "convert_to_string(df, string_columns)"
      ],
      "metadata": {
        "cell_id": "00067-d6b259fd-6507-47fb-9e2d-346c06b962bb",
        "deepnote_cell_type": "code",
        "execution": {
          "iopub.status.busy": "2022-02-02T18:48:26.657915Z",
          "iopub.execute_input": "2022-02-02T18:48:26.658154Z",
          "iopub.status.idle": "2022-02-02T18:48:32.648246Z",
          "shell.execute_reply.started": "2022-02-02T18:48:26.658127Z",
          "shell.execute_reply": "2022-02-02T18:48:32.647467Z"
        },
        "trusted": true,
        "id": "-VgIj0tWOKcG"
      },
      "execution_count": null,
      "outputs": []
    },
    {
      "cell_type": "markdown",
      "source": [
        "In order to convert 'year founded', we have to replace NaN values with 0 so that pandas will not raise an error saying \"Cannot convert non-finite values (NA or inf) to integer\"."
      ],
      "metadata": {
        "id": "gCGqKsBJOKcG"
      }
    },
    {
      "cell_type": "code",
      "source": [
        "df['year founded'].fillna(0, inplace=True)\n",
        "df['year founded'] = df['year founded'].astype('int64')"
      ],
      "metadata": {
        "cell_id": "00069-63308444-65fb-42b1-b325-97975b74ef0f",
        "deepnote_cell_type": "code",
        "execution": {
          "iopub.status.busy": "2022-02-02T18:48:32.649549Z",
          "iopub.execute_input": "2022-02-02T18:48:32.649769Z",
          "iopub.status.idle": "2022-02-02T18:48:32.736732Z",
          "shell.execute_reply.started": "2022-02-02T18:48:32.649743Z",
          "shell.execute_reply": "2022-02-02T18:48:32.735911Z"
        },
        "trusted": true,
        "id": "epl92kl4OKcH"
      },
      "execution_count": null,
      "outputs": []
    },
    {
      "cell_type": "code",
      "source": [
        "df.dtypes"
      ],
      "metadata": {
        "cell_id": "00070-9bc4647c-bb8c-4975-9a2a-f56191fd8356",
        "deepnote_cell_type": "code",
        "execution": {
          "iopub.status.busy": "2022-02-02T18:48:32.742554Z",
          "iopub.execute_input": "2022-02-02T18:48:32.742809Z",
          "iopub.status.idle": "2022-02-02T18:48:32.750139Z",
          "shell.execute_reply.started": "2022-02-02T18:48:32.74278Z",
          "shell.execute_reply": "2022-02-02T18:48:32.749377Z"
        },
        "trusted": true,
        "id": "hRL44yElOKcH"
      },
      "execution_count": null,
      "outputs": []
    },
    {
      "cell_type": "code",
      "source": [
        "df.head()"
      ],
      "metadata": {
        "cell_id": "00071-a7a99d6a-7391-495a-9071-12f9028fec46",
        "deepnote_cell_type": "code",
        "tags": [],
        "execution": {
          "iopub.status.busy": "2022-02-02T18:48:32.751683Z",
          "iopub.execute_input": "2022-02-02T18:48:32.751885Z",
          "iopub.status.idle": "2022-02-02T18:48:32.772262Z",
          "shell.execute_reply.started": "2022-02-02T18:48:32.751861Z",
          "shell.execute_reply": "2022-02-02T18:48:32.771597Z"
        },
        "trusted": true,
        "id": "YLf5ZPCjOKcH"
      },
      "execution_count": null,
      "outputs": []
    },
    {
      "cell_type": "markdown",
      "source": [
        "Now every data type looks good."
      ],
      "metadata": {
        "id": "-r5C5HpTOKcH"
      }
    },
    {
      "cell_type": "markdown",
      "source": [
        "## Duplicates"
      ],
      "metadata": {
        "cell_id": "00085-037dcc9d-1106-483c-aed2-ab3ae58c4297",
        "deepnote_cell_type": "markdown",
        "id": "mM8jsNJzOKcH"
      }
    },
    {
      "cell_type": "code",
      "source": [
        "# search for duplicate rows and drop them\n",
        "drop_duplicates(df)"
      ],
      "metadata": {
        "cell_id": "00087-f3772975-b2df-4c8c-a3c3-bb238c2fe2e7",
        "deepnote_cell_type": "code",
        "tags": [],
        "execution": {
          "iopub.status.busy": "2022-02-02T18:48:32.773164Z",
          "iopub.execute_input": "2022-02-02T18:48:32.773747Z",
          "iopub.status.idle": "2022-02-02T18:49:08.665314Z",
          "shell.execute_reply.started": "2022-02-02T18:48:32.773712Z",
          "shell.execute_reply": "2022-02-02T18:49:08.664354Z"
        },
        "trusted": true,
        "id": "NrD8FNDfOKcH"
      },
      "execution_count": null,
      "outputs": []
    },
    {
      "cell_type": "markdown",
      "source": [
        "Since name is the feature that uniquely identifies each record(company)record, there should be no duplicates. Let's check that."
      ],
      "metadata": {
        "cell_id": "00088-12c93246-9502-4a50-bb3d-710f7192e2f6",
        "deepnote_cell_type": "markdown",
        "id": "DI7jJkUlOKcH"
      }
    },
    {
      "cell_type": "code",
      "source": [
        "df.duplicated(subset=['name']).all()"
      ],
      "metadata": {
        "cell_id": "00089-c3a3102c-cb80-44ad-aab9-615e293496a7",
        "deepnote_cell_type": "code",
        "tags": [],
        "execution": {
          "iopub.status.busy": "2022-02-02T18:49:08.666809Z",
          "iopub.execute_input": "2022-02-02T18:49:08.667245Z",
          "iopub.status.idle": "2022-02-02T18:49:16.220127Z",
          "shell.execute_reply.started": "2022-02-02T18:49:08.66718Z",
          "shell.execute_reply": "2022-02-02T18:49:16.219294Z"
        },
        "trusted": true,
        "id": "J23NYiQPOKcI"
      },
      "execution_count": null,
      "outputs": []
    },
    {
      "cell_type": "markdown",
      "source": [
        "We are safe. No two rows in our dataset contain the same name value."
      ],
      "metadata": {
        "cell_id": "00090-f4860884-2fc5-423c-a1d5-41f9334ba20e",
        "deepnote_cell_type": "markdown",
        "id": "bVDc-Lr8OKcI"
      }
    },
    {
      "cell_type": "markdown",
      "source": [
        "## Univariate Analysis"
      ],
      "metadata": {
        "cell_id": "00112-53108d36-f5dd-4f97-a78c-f09994b81832",
        "deepnote_cell_type": "markdown",
        "id": "U5QUnAZ4OKcI"
      }
    },
    {
      "cell_type": "markdown",
      "source": [
        "Here we will analyze each variable. Let us start by checking the statistics of numeric variables."
      ],
      "metadata": {
        "tags": [],
        "id": "kIu6ACzCOKcI"
      }
    },
    {
      "cell_type": "code",
      "source": [
        "df.describe().transpose()"
      ],
      "metadata": {
        "cell_id": "00114-5f27ec86-7813-4c38-9aa9-54becf260b32",
        "deepnote_cell_type": "code",
        "tags": [],
        "execution": {
          "iopub.status.busy": "2022-02-02T18:49:16.221495Z",
          "iopub.execute_input": "2022-02-02T18:49:16.221725Z",
          "iopub.status.idle": "2022-02-02T18:49:16.936403Z",
          "shell.execute_reply.started": "2022-02-02T18:49:16.221695Z",
          "shell.execute_reply": "2022-02-02T18:49:16.935481Z"
        },
        "trusted": true,
        "id": "XwzX2sBzOKcI"
      },
      "execution_count": null,
      "outputs": []
    },
    {
      "cell_type": "markdown",
      "source": [
        "Here we can see some wierd results.\n",
        "* the maximum value for 'year founded' is 2103.\n",
        "* the minimum value for 'current employee estimate' is 0.\n",
        "\n",
        "We will check these in detail when we analyze each column."
      ],
      "metadata": {
        "id": "mheSkUtKOKcI"
      }
    },
    {
      "cell_type": "markdown",
      "source": [
        "### Name"
      ],
      "metadata": {
        "cell_id": "00115-fd34adbe-97d4-4d42-8442-5577904a076f",
        "deepnote_cell_type": "markdown",
        "id": "_hDQHOz_OKcJ"
      }
    },
    {
      "cell_type": "code",
      "source": [
        "# unique value counts\n",
        "counts_df = df['name'].value_counts().rename_axis('name').reset_index(name='count')\n",
        "counts_df"
      ],
      "metadata": {
        "execution": {
          "iopub.status.busy": "2022-02-02T18:49:16.937892Z",
          "iopub.execute_input": "2022-02-02T18:49:16.939987Z",
          "iopub.status.idle": "2022-02-02T18:49:26.707777Z",
          "shell.execute_reply.started": "2022-02-02T18:49:16.939943Z",
          "shell.execute_reply": "2022-02-02T18:49:26.707131Z"
        },
        "trusted": true,
        "id": "vX7hIj6tOKcJ"
      },
      "execution_count": null,
      "outputs": []
    },
    {
      "cell_type": "markdown",
      "source": [
        "Even though pandas.DataFrame.duplicated haven't identified any duplicated names, we have discovered there are some using value_counts. Let's investigate these names."
      ],
      "metadata": {
        "id": "QOd46IhMOKcJ"
      }
    },
    {
      "cell_type": "code",
      "source": [
        "repeated_names = counts_df[counts_df['count'] > 1].name.to_list()"
      ],
      "metadata": {
        "execution": {
          "iopub.status.busy": "2022-02-02T18:49:26.708799Z",
          "iopub.execute_input": "2022-02-02T18:49:26.709368Z",
          "iopub.status.idle": "2022-02-02T18:49:26.747518Z",
          "shell.execute_reply.started": "2022-02-02T18:49:26.709331Z",
          "shell.execute_reply": "2022-02-02T18:49:26.746569Z"
        },
        "trusted": true,
        "id": "ZQNtAcu3OKcJ"
      },
      "execution_count": null,
      "outputs": []
    },
    {
      "cell_type": "code",
      "source": [
        "text = \" \".join(name for name in df[df.name.isin(repeated_names)].name)\n",
        "\n",
        "# generate a word cloud image\n",
        "wordcloud = WordCloud(background_color=\"white\", width=800, height=400).generate(text)\n",
        "\n",
        "# display the word cloud\n",
        "plt.axis(\"off\")\n",
        "plt.figure(figsize=(30,15))\n",
        "plt.imshow(wordcloud, interpolation='bilinear')\n",
        "plt.show()"
      ],
      "metadata": {
        "execution": {
          "iopub.status.busy": "2022-02-02T18:49:26.748907Z",
          "iopub.execute_input": "2022-02-02T18:49:26.749138Z",
          "iopub.status.idle": "2022-02-02T18:49:37.369816Z",
          "shell.execute_reply.started": "2022-02-02T18:49:26.749109Z",
          "shell.execute_reply": "2022-02-02T18:49:37.369138Z"
        },
        "trusted": true,
        "id": "dHmag_7vOKcJ"
      },
      "execution_count": null,
      "outputs": []
    },
    {
      "cell_type": "markdown",
      "source": [
        "The most frequent words in these repeating company names are common words like group, inc, consulting and solution. Having companines with the exact same name in our dataset will conflict with our objective of extracting insights from business names since the values in the other columns differ. So I will remove the companies with their names repeated."
      ],
      "metadata": {
        "id": "6JK5-VWFOKcJ"
      }
    },
    {
      "cell_type": "code",
      "source": [
        "df = df[~df.name.isin(repeated_names)]"
      ],
      "metadata": {
        "execution": {
          "iopub.status.busy": "2022-02-02T18:49:37.370912Z",
          "iopub.execute_input": "2022-02-02T18:49:37.371575Z",
          "iopub.status.idle": "2022-02-02T18:49:40.752331Z",
          "shell.execute_reply.started": "2022-02-02T18:49:37.371542Z",
          "shell.execute_reply": "2022-02-02T18:49:40.751661Z"
        },
        "trusted": true,
        "id": "nHvKpTdbOKcK"
      },
      "execution_count": null,
      "outputs": []
    },
    {
      "cell_type": "markdown",
      "source": [
        "Let us examine if there are names containing different kinds of characters other than the english alphabets and space."
      ],
      "metadata": {
        "tags": [],
        "id": "ago41g5pOKcK"
      }
    },
    {
      "cell_type": "code",
      "source": [
        "# filtering names with a character that is not an english alphabet or space\n",
        "regexp = re.compile(r'[^a-zA-Z\\s]')\n",
        "df[df.name.apply(lambda x: regexp.search(x)).astype('bool')].name"
      ],
      "metadata": {
        "execution": {
          "iopub.status.busy": "2022-02-02T18:49:40.753445Z",
          "iopub.execute_input": "2022-02-02T18:49:40.753793Z",
          "iopub.status.idle": "2022-02-02T18:49:47.79848Z",
          "shell.execute_reply.started": "2022-02-02T18:49:40.753764Z",
          "shell.execute_reply": "2022-02-02T18:49:47.797576Z"
        },
        "trusted": true,
        "id": "Z2FdPywyOKcK"
      },
      "execution_count": null,
      "outputs": []
    },
    {
      "cell_type": "code",
      "source": [
        "# filtering names with non-aschii characters, here I considered on the standard aschii characters\n",
        "regexp = re.compile(r'[^\\x00-\\x7f]')\n",
        "df[df.name.apply(lambda x: regexp.search(x)).astype('bool')].name"
      ],
      "metadata": {
        "execution": {
          "iopub.status.busy": "2022-02-02T18:49:47.799985Z",
          "iopub.execute_input": "2022-02-02T18:49:47.80031Z",
          "iopub.status.idle": "2022-02-02T18:49:53.55116Z",
          "shell.execute_reply.started": "2022-02-02T18:49:47.800268Z",
          "shell.execute_reply": "2022-02-02T18:49:53.550522Z"
        },
        "trusted": true,
        "id": "iYCcltqQOKcK"
      },
      "execution_count": null,
      "outputs": []
    },
    {
      "cell_type": "code",
      "source": [
        "# filtering names with digits\n",
        "regexp = re.compile(r'[0-9]')\n",
        "df[df.name.apply(lambda x: regexp.search(x)).astype('bool')].name"
      ],
      "metadata": {
        "execution": {
          "iopub.status.busy": "2022-02-02T18:49:53.5522Z",
          "iopub.execute_input": "2022-02-02T18:49:53.552805Z",
          "iopub.status.idle": "2022-02-02T18:49:59.131737Z",
          "shell.execute_reply.started": "2022-02-02T18:49:53.552768Z",
          "shell.execute_reply": "2022-02-02T18:49:59.130755Z"
        },
        "trusted": true,
        "id": "tBXUxcGMOKcK"
      },
      "execution_count": null,
      "outputs": []
    },
    {
      "cell_type": "markdown",
      "source": [
        "As shown above there are a lot of names with digits, punctuations and aplhabets from non-english languages. This is understandable as this dataset conatains companies from different countries. Now let us look for the most comon words in company names."
      ],
      "metadata": {
        "id": "NYrXyA1ZOKcL"
      }
    },
    {
      "cell_type": "code",
      "source": [
        "text = \" \".join(name for name in df.name)\n",
        "print (\"There are {} words in the combination of all cells in the column 'name'.\".format(len(text)))\n",
        "\n",
        "# generate a word cloud image\n",
        "wordcloud = WordCloud(background_color=\"white\", width=800, height=400).generate(text)\n",
        "\n",
        "# display the word cloud\n",
        "plt.axis(\"off\")\n",
        "plt.figure(figsize=(40,20))\n",
        "plt.imshow(wordcloud, interpolation='bilinear')\n",
        "plt.show()"
      ],
      "metadata": {
        "tags": [],
        "execution": {
          "iopub.status.busy": "2022-02-02T18:49:59.133132Z",
          "iopub.execute_input": "2022-02-02T18:49:59.133468Z",
          "iopub.status.idle": "2022-02-02T18:54:08.891852Z",
          "shell.execute_reply.started": "2022-02-02T18:49:59.133427Z",
          "shell.execute_reply": "2022-02-02T18:54:08.888412Z"
        },
        "trusted": true,
        "id": "DLQi-a43OKcL"
      },
      "execution_count": null,
      "outputs": []
    },
    {
      "cell_type": "markdown",
      "source": [
        "We can conclude the following from the word cloud.\n",
        "* The most common words are related to company structure like pvt, ltd, limited, llc, co, inc, group, and gmbh.\n",
        "* Country and industry names are also frequent.\n",
        "* Even though they are not frequent companies use single characters like s, b and v in their names. I assume that these characters are abbreviations and are mmostly followed by a peried(.)."
      ],
      "metadata": {
        "id": "l8PhVZpoOKcL"
      }
    },
    {
      "cell_type": "markdown",
      "source": [
        "### Domain"
      ],
      "metadata": {
        "cell_id": "00118-04809438-9824-4d2e-a194-9ed80c2df606",
        "deepnote_cell_type": "markdown",
        "tags": [],
        "id": "FHh39oRUOKcL"
      }
    },
    {
      "cell_type": "code",
      "source": [
        "# unique value counts\n",
        "counts_df = df['domain'].value_counts().rename_axis('domain').reset_index(name='count')\n",
        "counts_df"
      ],
      "metadata": {
        "cell_id": "00119-0f66a197-fd67-4542-9c24-da854bf8e0ef",
        "deepnote_cell_type": "code",
        "tags": [],
        "execution": {
          "iopub.status.busy": "2022-02-02T18:54:08.893585Z",
          "iopub.execute_input": "2022-02-02T18:54:08.893833Z",
          "iopub.status.idle": "2022-02-02T18:54:16.315403Z",
          "shell.execute_reply.started": "2022-02-02T18:54:08.893804Z",
          "shell.execute_reply": "2022-02-02T18:54:16.314493Z"
        },
        "trusted": true,
        "id": "_sNqhFdqOKcM"
      },
      "execution_count": null,
      "outputs": []
    },
    {
      "cell_type": "code",
      "source": [
        "df[df['domain'] == 'dunked.com']"
      ],
      "metadata": {
        "tags": [],
        "execution": {
          "iopub.status.busy": "2022-02-02T18:54:16.316662Z",
          "iopub.execute_input": "2022-02-02T18:54:16.317253Z",
          "iopub.status.idle": "2022-02-02T18:54:17.308177Z",
          "shell.execute_reply.started": "2022-02-02T18:54:16.317197Z",
          "shell.execute_reply": "2022-02-02T18:54:17.307118Z"
        },
        "trusted": true,
        "id": "CHsw9Hf6OKcM"
      },
      "execution_count": null,
      "outputs": []
    },
    {
      "cell_type": "markdown",
      "source": [
        "We can see that there are companies with the same domain but different name. I assume that there was an error while collecting this data or the data was imputed using some criterea. I am saying this because even sister companies have different domains most of the times. Besides this for example companies with the domain 'dunked.com' are from different countries as shown above. This shows that there is low probability of them being sister companies. But since our objective doesn't focus on the domain, we will not drop them."
      ],
      "metadata": {
        "id": "daaHKkDaOKcM"
      }
    },
    {
      "cell_type": "markdown",
      "source": [
        "### Year founded"
      ],
      "metadata": {
        "cell_id": "00121-cabfb41e-92cc-4611-9386-533c2d2c98ad",
        "deepnote_cell_type": "markdown",
        "id": "WREIqpc7OKcN"
      }
    },
    {
      "cell_type": "code",
      "source": [
        "# unique value counts\n",
        "counts_df = df['year founded'].value_counts().rename_axis('year founded').reset_index(name='count')\n",
        "counts_df"
      ],
      "metadata": {
        "tags": [],
        "execution": {
          "iopub.status.busy": "2022-02-02T18:54:17.309748Z",
          "iopub.execute_input": "2022-02-02T18:54:17.310089Z",
          "iopub.status.idle": "2022-02-02T18:54:17.36385Z",
          "shell.execute_reply.started": "2022-02-02T18:54:17.310046Z",
          "shell.execute_reply": "2022-02-02T18:54:17.362956Z"
        },
        "trusted": true,
        "id": "_jBE4_5GOKcN"
      },
      "execution_count": null,
      "outputs": []
    },
    {
      "cell_type": "markdown",
      "source": [
        "As shown above there are some historical companies founded before 1900s. Besides this 0 is the most common value because we have repaced null values with it. Let us examine how many companies were founded before the 20th century."
      ],
      "metadata": {
        "id": "08ivx7dQOKcN"
      }
    },
    {
      "cell_type": "code",
      "source": [
        "df.query(\"0 < `year founded` < 1900\")['year founded'].value_counts().rename_axis('year founded').reset_index(name='count')"
      ],
      "metadata": {
        "execution": {
          "iopub.status.busy": "2022-02-02T18:54:17.365166Z",
          "iopub.execute_input": "2022-02-02T18:54:17.365434Z",
          "iopub.status.idle": "2022-02-02T18:54:17.557409Z",
          "shell.execute_reply.started": "2022-02-02T18:54:17.365401Z",
          "shell.execute_reply": "2022-02-02T18:54:17.556523Z"
        },
        "trusted": true,
        "id": "2t66z-2dOKcN"
      },
      "execution_count": null,
      "outputs": []
    },
    {
      "cell_type": "markdown",
      "source": [
        "It seems that there are some companies founded in the 19th century. What about before the 19th century?"
      ],
      "metadata": {
        "id": "nZo0Hp-XOKcO"
      }
    },
    {
      "cell_type": "code",
      "source": [
        "df.query(\"0 < `year founded` < 1800\")['year founded'].value_counts().rename_axis('year founded').reset_index(name='count')"
      ],
      "metadata": {
        "execution": {
          "iopub.status.busy": "2022-02-02T18:54:17.558824Z",
          "iopub.execute_input": "2022-02-02T18:54:17.559376Z",
          "iopub.status.idle": "2022-02-02T18:54:17.662675Z",
          "shell.execute_reply.started": "2022-02-02T18:54:17.559324Z",
          "shell.execute_reply": "2022-02-02T18:54:17.661733Z"
        },
        "trusted": true,
        "id": "f4p63_64OKcO"
      },
      "execution_count": null,
      "outputs": []
    },
    {
      "cell_type": "markdown",
      "source": [
        "Earlier we have disovered that the maximum value is 2103. Let us check for vaules bigger than the current year."
      ],
      "metadata": {
        "id": "o2iuFP5eOKcO"
      }
    },
    {
      "cell_type": "code",
      "source": [
        "df[df['year founded'] > 2021]"
      ],
      "metadata": {
        "tags": [],
        "execution": {
          "iopub.status.busy": "2022-02-02T18:54:17.663992Z",
          "iopub.execute_input": "2022-02-02T18:54:17.664243Z",
          "iopub.status.idle": "2022-02-02T18:54:17.68988Z",
          "shell.execute_reply.started": "2022-02-02T18:54:17.664198Z",
          "shell.execute_reply": "2022-02-02T18:54:17.688872Z"
        },
        "trusted": true,
        "id": "Kyung-IcOKcO"
      },
      "execution_count": null,
      "outputs": []
    },
    {
      "cell_type": "markdown",
      "source": [
        "Let us remove these records."
      ],
      "metadata": {
        "id": "u-FhxKyGOKcP"
      }
    },
    {
      "cell_type": "code",
      "source": [
        "df.drop(df.index[df['year founded'] > 2021], inplace=True)"
      ],
      "metadata": {
        "tags": [],
        "execution": {
          "iopub.status.busy": "2022-02-02T18:54:17.69095Z",
          "iopub.execute_input": "2022-02-02T18:54:17.691634Z",
          "iopub.status.idle": "2022-02-02T18:54:21.552029Z",
          "shell.execute_reply.started": "2022-02-02T18:54:17.691583Z",
          "shell.execute_reply": "2022-02-02T18:54:21.551014Z"
        },
        "trusted": true,
        "id": "4OF-eVVGOKcP"
      },
      "execution_count": null,
      "outputs": []
    },
    {
      "cell_type": "markdown",
      "source": [
        "Since most companies in the dataset are founded after 1900, let's see their distribution."
      ],
      "metadata": {
        "id": "8zS4g8NBOKcP"
      }
    },
    {
      "cell_type": "code",
      "source": [
        "# distribution of companies founded after 1900\n",
        "plot_dist(df[df['year founded'] > 1900], 'year founded')"
      ],
      "metadata": {
        "execution": {
          "iopub.status.busy": "2022-02-02T18:54:21.553349Z",
          "iopub.execute_input": "2022-02-02T18:54:21.553614Z",
          "iopub.status.idle": "2022-02-02T18:54:26.871186Z",
          "shell.execute_reply.started": "2022-02-02T18:54:21.553581Z",
          "shell.execute_reply": "2022-02-02T18:54:26.870171Z"
        },
        "trusted": true,
        "id": "3wB0Qst5OKcP"
      },
      "execution_count": null,
      "outputs": []
    },
    {
      "cell_type": "markdown",
      "source": [
        "### Industry"
      ],
      "metadata": {
        "cell_id": "00123-7e17955b-4dae-401d-9a1f-cc96bac6e118",
        "deepnote_cell_type": "markdown",
        "id": "vc4tIvHOOKcP"
      }
    },
    {
      "cell_type": "code",
      "source": [
        "# unique value counts\n",
        "counts_df = df['industry'].value_counts().rename_axis('industry').reset_index(name='count')\n",
        "counts_df"
      ],
      "metadata": {
        "cell_id": "00124-bea880ed-6625-4a20-9feb-8cdbfc2e6882",
        "deepnote_cell_type": "code",
        "tags": [],
        "execution": {
          "iopub.status.busy": "2022-02-02T18:54:26.87254Z",
          "iopub.execute_input": "2022-02-02T18:54:26.872815Z",
          "iopub.status.idle": "2022-02-02T18:54:27.966346Z",
          "shell.execute_reply.started": "2022-02-02T18:54:26.872781Z",
          "shell.execute_reply": "2022-02-02T18:54:27.965455Z"
        },
        "trusted": true,
        "id": "dzLOKXcPOKcP"
      },
      "execution_count": null,
      "outputs": []
    },
    {
      "cell_type": "markdown",
      "source": [
        "The companies in this dataset work in 148 industries. The most common industry is 'infomation technoogy and services'."
      ],
      "metadata": {
        "id": "o7225hBWOKcQ"
      }
    },
    {
      "cell_type": "code",
      "source": [
        "plotly_plot_bar(counts_df.nlargest(10, 'count').sort_values(by='count'), x='count', y='industry', title='Top 10 industries with many companies')"
      ],
      "metadata": {
        "execution": {
          "iopub.status.busy": "2022-02-02T18:54:27.967963Z",
          "iopub.execute_input": "2022-02-02T18:54:27.968495Z",
          "iopub.status.idle": "2022-02-02T18:54:30.748146Z",
          "shell.execute_reply.started": "2022-02-02T18:54:27.96845Z",
          "shell.execute_reply": "2022-02-02T18:54:30.747128Z"
        },
        "trusted": true,
        "id": "RxVDlu9UOKcQ"
      },
      "execution_count": null,
      "outputs": []
    },
    {
      "cell_type": "markdown",
      "source": [
        "### Size range"
      ],
      "metadata": {
        "cell_id": "00125-849006af-4fb3-418e-9272-c2dc7d97e88a",
        "deepnote_cell_type": "markdown",
        "id": "0ImYPS-EOKcQ"
      }
    },
    {
      "cell_type": "code",
      "source": [
        "# unique value counts\n",
        "counts_df = df['size range'].value_counts().rename_axis('size range').reset_index(name='count')\n",
        "counts_df"
      ],
      "metadata": {
        "cell_id": "00126-7bbcbb50-a673-4baf-8235-2e0253894072",
        "deepnote_cell_type": "code",
        "execution": {
          "iopub.status.busy": "2022-02-02T18:54:30.749913Z",
          "iopub.execute_input": "2022-02-02T18:54:30.750209Z",
          "iopub.status.idle": "2022-02-02T18:54:31.828108Z",
          "shell.execute_reply.started": "2022-02-02T18:54:30.750159Z",
          "shell.execute_reply": "2022-02-02T18:54:31.826765Z"
        },
        "trusted": true,
        "id": "7EvluCFwOKcQ"
      },
      "execution_count": null,
      "outputs": []
    },
    {
      "cell_type": "code",
      "source": [
        "plotly_plot_pie(df, column='size range', title='Distribution of companies size range', width=800)"
      ],
      "metadata": {
        "execution": {
          "iopub.status.busy": "2022-02-02T18:54:31.830144Z",
          "iopub.execute_input": "2022-02-02T18:54:31.830431Z",
          "iopub.status.idle": "2022-02-02T18:54:33.77489Z",
          "shell.execute_reply.started": "2022-02-02T18:54:31.830402Z",
          "shell.execute_reply": "2022-02-02T18:54:33.77397Z"
        },
        "trusted": true,
        "id": "-wBKnjKeOKcQ"
      },
      "execution_count": null,
      "outputs": []
    },
    {
      "cell_type": "markdown",
      "source": [
        "More than 93% of the companies have employees less than or equal to 50. I think this shows the reaity since the number of big companies that drive economies around the world is small."
      ],
      "metadata": {
        "id": "jkZly12vOKcQ"
      }
    },
    {
      "cell_type": "markdown",
      "source": [
        "### Locality"
      ],
      "metadata": {
        "cell_id": "00127-14724640-c643-4190-b1c0-a7900ba76ec6",
        "deepnote_cell_type": "markdown",
        "id": "-H7PibV6OKcQ"
      }
    },
    {
      "cell_type": "code",
      "source": [
        "# unique value counts\n",
        "counts_df = df['locality'].value_counts().rename_axis('locality').reset_index(name='count')\n",
        "counts_df"
      ],
      "metadata": {
        "execution": {
          "iopub.status.busy": "2022-02-02T18:54:33.776246Z",
          "iopub.execute_input": "2022-02-02T18:54:33.776807Z",
          "iopub.status.idle": "2022-02-02T18:54:35.100834Z",
          "shell.execute_reply.started": "2022-02-02T18:54:33.776765Z",
          "shell.execute_reply": "2022-02-02T18:54:35.099873Z"
        },
        "trusted": true,
        "id": "0vP9ETSdOKcR"
      },
      "execution_count": null,
      "outputs": []
    },
    {
      "cell_type": "markdown",
      "source": [
        "Here we can see that most companies are found in the biggest cities of the developed world like london, new york, madrid and paris. Another thing to notice is that london appears both at index 0 and 4 with slight difference. This shows there is an inconsistency. We will extract the cities as a feature later to fix this."
      ],
      "metadata": {
        "id": "fz3X2ZZGOKcR"
      }
    },
    {
      "cell_type": "markdown",
      "source": [
        "### Country"
      ],
      "metadata": {
        "cell_id": "00129-8d6f244b-fa54-4251-ad4a-21d4d9add8da",
        "deepnote_cell_type": "markdown",
        "id": "dLKtDAd6OKcR"
      }
    },
    {
      "cell_type": "code",
      "source": [
        "# unique value counts\n",
        "counts_df = df['country'].value_counts().rename_axis('country').reset_index(name='count')\n",
        "counts_df"
      ],
      "metadata": {
        "tags": [],
        "execution": {
          "iopub.status.busy": "2022-02-02T18:54:35.102224Z",
          "iopub.execute_input": "2022-02-02T18:54:35.102546Z",
          "iopub.status.idle": "2022-02-02T18:54:35.889716Z",
          "shell.execute_reply.started": "2022-02-02T18:54:35.102511Z",
          "shell.execute_reply": "2022-02-02T18:54:35.888693Z"
        },
        "trusted": true,
        "id": "21Cjd3-9OKcR"
      },
      "execution_count": null,
      "outputs": []
    },
    {
      "cell_type": "markdown",
      "source": [
        "Here also as expected most companies are from the developes countries.The top 10 countries with many companies are plotted below."
      ],
      "metadata": {
        "id": "2Hs64-GoOKcR"
      }
    },
    {
      "cell_type": "code",
      "source": [
        "plotly_plot_bar(counts_df.nlargest(10, 'count').sort_values(by='count'), x='count', y='country', title='Top 10 countries with many companies')"
      ],
      "metadata": {
        "execution": {
          "iopub.status.busy": "2022-02-02T18:54:35.892639Z",
          "iopub.execute_input": "2022-02-02T18:54:35.892994Z",
          "iopub.status.idle": "2022-02-02T18:54:36.074095Z",
          "shell.execute_reply.started": "2022-02-02T18:54:35.892946Z",
          "shell.execute_reply": "2022-02-02T18:54:36.073463Z"
        },
        "trusted": true,
        "id": "k_KBakULOKcR"
      },
      "execution_count": null,
      "outputs": []
    },
    {
      "cell_type": "markdown",
      "source": [
        " Companies from the united states clearly dominate the dataset."
      ],
      "metadata": {
        "id": "SK4KhuoEOKcR"
      }
    },
    {
      "cell_type": "markdown",
      "source": [
        "### Linkedin url"
      ],
      "metadata": {
        "cell_id": "00131-68c0b40f-ad8f-4ced-8316-5dd2fae438af",
        "deepnote_cell_type": "markdown",
        "id": "ozeV41mFOKcS"
      }
    },
    {
      "cell_type": "code",
      "source": [
        "counts_df = df['linkedin url'].value_counts().rename_axis('linkedin url').reset_index(name='count')\n",
        "counts_df"
      ],
      "metadata": {
        "cell_id": "00132-c1ef5a7f-d970-44a9-a911-cf3872e59f29",
        "deepnote_cell_type": "code",
        "execution": {
          "iopub.status.busy": "2022-02-02T18:54:36.075264Z",
          "iopub.execute_input": "2022-02-02T18:54:36.075524Z",
          "iopub.status.idle": "2022-02-02T18:54:48.454612Z",
          "shell.execute_reply.started": "2022-02-02T18:54:36.075494Z",
          "shell.execute_reply": "2022-02-02T18:54:48.453721Z"
        },
        "trusted": true,
        "id": "4rqq7jD3OKcS"
      },
      "execution_count": null,
      "outputs": []
    },
    {
      "cell_type": "markdown",
      "source": [
        "As shown above each company has its own unique linkedin url. This is because the name of the company, which is unique, is included in each url."
      ],
      "metadata": {
        "id": "ckHMVDZHOKcS"
      }
    },
    {
      "cell_type": "markdown",
      "source": [
        "### Current employee estimate"
      ],
      "metadata": {
        "cell_id": "00133-12279e73-f167-4c36-807e-f3ae1cc19481",
        "deepnote_cell_type": "markdown",
        "id": "VvhwtoEUOKcS"
      }
    },
    {
      "cell_type": "code",
      "source": [
        "counts_df = df['current employee estimate'].value_counts().rename_axis('current employee estimate').reset_index(name='count')\n",
        "counts_df"
      ],
      "metadata": {
        "cell_id": "00134-c352acc8-ba96-4efd-ab69-0cd0ce12663d",
        "deepnote_cell_type": "code",
        "execution": {
          "iopub.status.busy": "2022-02-02T18:54:48.456191Z",
          "iopub.execute_input": "2022-02-02T18:54:48.456455Z",
          "iopub.status.idle": "2022-02-02T18:54:48.526089Z",
          "shell.execute_reply.started": "2022-02-02T18:54:48.456422Z",
          "shell.execute_reply": "2022-02-02T18:54:48.525268Z"
        },
        "trusted": true,
        "id": "oYyw12MPOKcS"
      },
      "execution_count": null,
      "outputs": []
    },
    {
      "cell_type": "code",
      "source": [
        "plotly_plot_bar(counts_df.nlargest(10, 'count').sort_values(by='count'), x='current employee estimate', y='count', title='Top 10 current employee estimates')"
      ],
      "metadata": {
        "execution": {
          "iopub.status.busy": "2022-02-02T18:54:48.527358Z",
          "iopub.execute_input": "2022-02-02T18:54:48.527603Z",
          "iopub.status.idle": "2022-02-02T18:54:48.666921Z",
          "shell.execute_reply.started": "2022-02-02T18:54:48.527575Z",
          "shell.execute_reply": "2022-02-02T18:54:48.66584Z"
        },
        "trusted": true,
        "id": "ihVEaQqtOKcS"
      },
      "execution_count": null,
      "outputs": []
    },
    {
      "cell_type": "markdown",
      "source": [
        "Everything seems fine here except for companies with 0 current employee estimate. I assume the data was not available for this companies so 0 was filled as an indication for missing."
      ],
      "metadata": {
        "id": "BLqSLnzEOKcS"
      }
    },
    {
      "cell_type": "markdown",
      "source": [
        "### Total employee estimate"
      ],
      "metadata": {
        "cell_id": "00135-5e055be3-4cf1-4947-b5f3-2e60f04c4c76",
        "deepnote_cell_type": "markdown",
        "id": "-DNqs035OKcT"
      }
    },
    {
      "cell_type": "code",
      "source": [
        "counts_df = df['total employee estimate'].value_counts().rename_axis('total employee estimate').reset_index(name='count')\n",
        "counts_df"
      ],
      "metadata": {
        "cell_id": "00136-a03ed9b3-c29b-4a0a-a968-297ef18534a5",
        "deepnote_cell_type": "code",
        "execution": {
          "iopub.status.busy": "2022-02-02T18:54:48.668377Z",
          "iopub.execute_input": "2022-02-02T18:54:48.669086Z",
          "iopub.status.idle": "2022-02-02T18:54:48.743915Z",
          "shell.execute_reply.started": "2022-02-02T18:54:48.669047Z",
          "shell.execute_reply": "2022-02-02T18:54:48.743028Z"
        },
        "trusted": true,
        "id": "lDQir44COKcT"
      },
      "execution_count": null,
      "outputs": []
    },
    {
      "cell_type": "code",
      "source": [
        "plotly_plot_bar(counts_df.nlargest(10, 'count').sort_values(by='count'), x='total employee estimate', y='count', title='Top 10 total employee estimates')"
      ],
      "metadata": {
        "execution": {
          "iopub.status.busy": "2022-02-02T18:54:48.745599Z",
          "iopub.execute_input": "2022-02-02T18:54:48.746189Z",
          "iopub.status.idle": "2022-02-02T18:54:48.881201Z",
          "shell.execute_reply.started": "2022-02-02T18:54:48.746142Z",
          "shell.execute_reply": "2022-02-02T18:54:48.88056Z"
        },
        "trusted": true,
        "id": "bAy79lY_OKcT"
      },
      "execution_count": null,
      "outputs": []
    },
    {
      "cell_type": "markdown",
      "source": [
        "Here 0 is the mode value for total employee estimate. I assume this is also due to missing data."
      ],
      "metadata": {
        "id": "Qa8bLAKEOKcT"
      }
    },
    {
      "cell_type": "markdown",
      "source": [
        "## Feature Engineering"
      ],
      "metadata": {
        "cell_id": "00096-b99182b2-f7c3-44a7-bf4a-d6b62c43cf47",
        "deepnote_cell_type": "markdown",
        "id": "pEv3hQEOOKcT"
      }
    },
    {
      "cell_type": "markdown",
      "source": [
        "From the locality column we can extract city which is useful to tackle the inconsistency discussed above in the univariate analysis of locality."
      ],
      "metadata": {
        "id": "xUvCVLaIOKcT"
      }
    },
    {
      "cell_type": "code",
      "source": [
        "def extract_city(locality):\n",
        "    if pd.isnull(locality):\n",
        "        return '<NA>'\n",
        "    # extract cities from locality\n",
        "    geo = geotext.GeoText(locality).cities\n",
        "    if len(geo) > 0:\n",
        "        return geo[0]\n",
        "    return locality.split(',')[0]\n",
        "\n",
        "df['city'] = df['locality'].apply(extract_city)"
      ],
      "metadata": {
        "tags": [],
        "execution": {
          "iopub.status.busy": "2022-02-02T18:54:48.882273Z",
          "iopub.execute_input": "2022-02-02T18:54:48.88296Z",
          "iopub.status.idle": "2022-02-02T18:55:55.057489Z",
          "shell.execute_reply.started": "2022-02-02T18:54:48.882922Z",
          "shell.execute_reply": "2022-02-02T18:55:55.056124Z"
        },
        "trusted": true,
        "id": "_4Bq7VifOKcT"
      },
      "execution_count": null,
      "outputs": []
    },
    {
      "cell_type": "markdown",
      "source": [
        "From the name we can extract different features like number of characters, words and punctuations. Another feature to be considered is word density. We can also identify if a name contains digits or non-aschii characters."
      ],
      "metadata": {
        "id": "yvUW1zG_OKcT"
      }
    },
    {
      "cell_type": "code",
      "source": [
        "df['name_char_count'] = df['name'].apply(lambda name: len(name))\n",
        "\n",
        "# split name based on comma, space or hyphen\n",
        "df['name_word_count'] = df['name'].apply(lambda name: len(list(filter(lambda x: x!= '', re.split(r',|\\s|-', name)))))\n",
        "\n",
        "df['name_word_density'] = round(df['name_word_count'] / df['name_char_count'], 2)\n",
        "\n",
        "punc = string.punctuation\n",
        "df['name_punc_count'] = df['name'].apply(lambda x : len([a for a in x if a in punc]))\n",
        "\n",
        "df['name_non_aschii_char_count'] = df['name'].apply(lambda x: len([a for a in x if ord(a) > 127]))\n",
        "\n",
        "df['name_digit_count'] = df['name'].apply(lambda x: len([a for a in x if a in ['0', '1', '2', '3', '4', '5', '6', '7', '8', '9']]))"
      ],
      "metadata": {
        "execution": {
          "iopub.status.busy": "2022-02-02T18:55:55.059429Z",
          "iopub.execute_input": "2022-02-02T18:55:55.059851Z",
          "iopub.status.idle": "2022-02-02T18:57:48.800772Z",
          "shell.execute_reply.started": "2022-02-02T18:55:55.059799Z",
          "shell.execute_reply": "2022-02-02T18:57:48.799383Z"
        },
        "trusted": true,
        "id": "jHJS6r90OKcU"
      },
      "execution_count": null,
      "outputs": []
    },
    {
      "cell_type": "markdown",
      "source": [
        "For simplicity and ease of calculating correlation I will categorize the values of 'size range' into number values in an another column."
      ],
      "metadata": {
        "id": "RxN5QejQOKcU"
      }
    },
    {
      "cell_type": "code",
      "source": [
        "def categorize(size):\n",
        "    switcher={\n",
        "        '1 - 10': 1,\n",
        "        '11 - 50': 2,\n",
        "        '51 - 200': 3,\n",
        "        '201 - 500': 4,\n",
        "        '501 - 1000': 5,\n",
        "        '1001 - 5000': 6,\n",
        "        '5001 - 10000': 7,\n",
        "        '10001+': 8\n",
        "    }\n",
        "    return switcher.get(size, 0)\n",
        "df['size_category'] = df['size range'].apply(categorize)"
      ],
      "metadata": {
        "execution": {
          "iopub.status.busy": "2022-02-02T18:57:48.802586Z",
          "iopub.execute_input": "2022-02-02T18:57:48.802943Z",
          "iopub.status.idle": "2022-02-02T18:57:55.305126Z",
          "shell.execute_reply.started": "2022-02-02T18:57:48.802897Z",
          "shell.execute_reply": "2022-02-02T18:57:55.303989Z"
        },
        "trusted": true,
        "id": "NE6FqQgHOKcU"
      },
      "execution_count": null,
      "outputs": []
    },
    {
      "cell_type": "code",
      "source": [
        "df.sample(5)"
      ],
      "metadata": {
        "execution": {
          "iopub.status.busy": "2022-02-02T18:57:55.306541Z",
          "iopub.execute_input": "2022-02-02T18:57:55.306791Z",
          "iopub.status.idle": "2022-02-02T18:57:56.459324Z",
          "shell.execute_reply.started": "2022-02-02T18:57:55.306762Z",
          "shell.execute_reply": "2022-02-02T18:57:56.458344Z"
        },
        "trusted": true,
        "id": "xvhNOmQDOKcU"
      },
      "execution_count": null,
      "outputs": []
    },
    {
      "cell_type": "markdown",
      "source": [
        "## Correlation Analysis"
      ],
      "metadata": {
        "cell_id": "00164-547387ef-4b13-42e9-afc3-230277a35095",
        "deepnote_cell_type": "markdown",
        "id": "aJNQuRaAOKcU"
      }
    },
    {
      "cell_type": "code",
      "source": [
        "df_corr = df.corr()\n",
        "\n",
        "# Generate a mask for the upper triangle\n",
        "mask = np.zeros_like(df_corr)\n",
        "mask[np.triu_indices_from(mask)] = True\n",
        "with sns.axes_style(\"white\"):\n",
        "    f_fig, f_ax = plt.subplots(figsize=(12, 12))\n",
        "    f_ax = sns.heatmap(df_corr, mask=mask, vmin=0, vmax=1, square=True,\n",
        "                        annot=True, annot_kws={\"size\": 10}, cmap=\"BuPu\")\n",
        "plt.title('Correlation of numeric features')\n",
        "plt.show()"
      ],
      "metadata": {
        "cell_id": "00165-56f5a554-8448-4687-ac38-f69bb7a7953a",
        "deepnote_cell_type": "code",
        "execution": {
          "iopub.status.busy": "2022-02-02T18:57:56.460829Z",
          "iopub.execute_input": "2022-02-02T18:57:56.461079Z",
          "iopub.status.idle": "2022-02-02T18:57:59.505846Z",
          "shell.execute_reply.started": "2022-02-02T18:57:56.461042Z",
          "shell.execute_reply": "2022-02-02T18:57:59.505212Z"
        },
        "trusted": true,
        "id": "o6cFKb3eOKcU"
      },
      "execution_count": null,
      "outputs": []
    },
    {
      "cell_type": "markdown",
      "source": [
        "As shown above there is no significant correlation between important numeric features. It is no surprise that 'current employee estimate' and 'total employee estimate' are highly correlated as they both describe the size of employees in companies. The same applies to numeric features engineered from the column name. They have correlation because they are derived from the same place. Due to these facts our bivariate analysis will mostly focus on non-numerical features and their interaction with the numerical features."
      ],
      "metadata": {
        "id": "fMwdYAjIOKcU"
      }
    },
    {
      "cell_type": "markdown",
      "source": [
        "## Bivariate Analysis"
      ],
      "metadata": {
        "cell_id": "00141-55bb5ba6-b499-4be2-845d-93592b6d5d1f",
        "deepnote_cell_type": "markdown",
        "id": "xaDmYxJiOKcV"
      }
    },
    {
      "cell_type": "markdown",
      "source": [
        "### country and name_char_count"
      ],
      "metadata": {
        "cell_id": "00142-bd4dd02b-364f-445b-8742-fe80a5779328",
        "deepnote_cell_type": "markdown",
        "id": "0FwBAsALOKcV"
      }
    },
    {
      "cell_type": "markdown",
      "source": [
        "Here we will examine the averege number of characters in company names per countries."
      ],
      "metadata": {
        "id": "Or64JHYiOKcV"
      }
    },
    {
      "cell_type": "code",
      "source": [
        "country_df = df.groupby('country', as_index=False).agg({'name_char_count': 'mean', 'name': 'count'}).rename(columns={'name_char_count': 'mean_name_char', 'name': 'count'})\n",
        "country_df =  country_df[country_df['count'] >= 100].sort_values(by='mean_name_char',ascending=False).reset_index(drop=True)\n",
        "country_df['country'] = country_df['country'].astype('string').str.title()\n",
        "country_df['mean_name_char'] = country_df['mean_name_char'].astype('int16')\n",
        "country_df"
      ],
      "metadata": {
        "execution": {
          "iopub.status.busy": "2022-02-02T18:57:59.507075Z",
          "iopub.execute_input": "2022-02-02T18:57:59.507559Z",
          "iopub.status.idle": "2022-02-02T18:58:02.049629Z",
          "shell.execute_reply.started": "2022-02-02T18:57:59.507489Z",
          "shell.execute_reply": "2022-02-02T18:58:02.048675Z"
        },
        "trusted": true,
        "id": "qfAUKNDROKcV"
      },
      "execution_count": null,
      "outputs": []
    },
    {
      "cell_type": "code",
      "source": [
        "gdf = gpd.read_file(gpd.datasets.get_path('naturalearth_lowres'))[['name', 'geometry']]\n",
        "gdf.columns = ['country', 'geometry']\n",
        "gdf.head()"
      ],
      "metadata": {
        "execution": {
          "iopub.status.busy": "2022-02-02T18:58:02.050979Z",
          "iopub.execute_input": "2022-02-02T18:58:02.051219Z",
          "iopub.status.idle": "2022-02-02T18:58:02.246193Z",
          "shell.execute_reply.started": "2022-02-02T18:58:02.051191Z",
          "shell.execute_reply": "2022-02-02T18:58:02.244854Z"
        },
        "trusted": true,
        "id": "67960U5IOKcV"
      },
      "execution_count": null,
      "outputs": []
    },
    {
      "cell_type": "code",
      "source": [
        "# remove antarctica\n",
        "antarctic_index = int(gdf[gdf['country'] == 'Antarctica'].index.values)\n",
        "gdf = gdf.drop(gdf.index[antarctic_index])\n",
        "\n",
        "replace = {\n",
        "    \"United States of America\": 'United States',\n",
        "    \"Bosnia and Herz.\": 'Bosnia And Herzegovina',\n",
        "    \"Central African Rep.\": 'Central African Republic',\n",
        "    \"Côte d'Ivoire\": 'Côte D’Ivoire',\n",
        "    \"Dominican Rep.\": 'Dominican Republic',\n",
        "    \"Dem. Rep. Congo\": 'Democratic Republic Of The Congo',\n",
        "    \"Eq. Guinea\": 'Equatorial Guinea',\n",
        "    \"Dominican Rep.\": 'Dominican Republic',\n",
        "    \"Solomon Is.\": 'Solomon Islands',\n",
        "    \"Trinidad and Tobago\": 'Trinidad And Tobago',\n",
        "    \"S. Sudan\": 'South Sudan',\n",
        "}\n",
        "\n",
        "for (n_old, n_new) in replace.items():\n",
        "    gdf.country.loc[gdf['country'] == n_old] = n_new\n",
        "\n",
        "# merge country_df and gdf\n",
        "merged = gdf.merge(country_df, left_on='country', right_on='country', how = 'left')\n",
        "merged.head()"
      ],
      "metadata": {
        "execution": {
          "iopub.status.busy": "2022-02-02T18:58:02.247888Z",
          "iopub.execute_input": "2022-02-02T18:58:02.248362Z",
          "iopub.status.idle": "2022-02-02T18:58:02.299049Z",
          "shell.execute_reply.started": "2022-02-02T18:58:02.248319Z",
          "shell.execute_reply": "2022-02-02T18:58:02.298432Z"
        },
        "trusted": true,
        "id": "PXeGQz6cOKcV"
      },
      "execution_count": null,
      "outputs": []
    },
    {
      "cell_type": "code",
      "source": [
        "fig, ax = plt.subplots(1, figsize=(20,15))\n",
        "\n",
        "merged.plot(color='grey', ax=ax, label = 'No data')\n",
        "merged.dropna().plot(column='mean_name_char', cmap='rainbow', ax=ax, scheme='natural_breaks', k=5, legend=True, legend_kwds={'loc': 'lower left'})\n",
        "\n",
        "plt.title('Averege number of characters in company names by countries')\n",
        "\n",
        "#fixing floating-point counts, making them integer:\n",
        "leg = ax.get_legend()\n",
        "for text in leg.get_texts():\n",
        "    text.set_text(text.get_text().replace('.00', ''))\n",
        "\n",
        "plt.axis('off');"
      ],
      "metadata": {
        "execution": {
          "iopub.status.busy": "2022-02-02T18:58:02.300384Z",
          "iopub.execute_input": "2022-02-02T18:58:02.300893Z",
          "iopub.status.idle": "2022-02-02T18:58:04.210013Z",
          "shell.execute_reply.started": "2022-02-02T18:58:02.300827Z",
          "shell.execute_reply": "2022-02-02T18:58:04.209391Z"
        },
        "trusted": true,
        "id": "eQDwM7ZwOKcW"
      },
      "execution_count": null,
      "outputs": []
    },
    {
      "cell_type": "markdown",
      "source": [
        "### country and name_word_count"
      ],
      "metadata": {
        "cell_id": "00142-bd4dd02b-364f-445b-8742-fe80a5779328",
        "deepnote_cell_type": "markdown",
        "tags": [],
        "id": "xGZjsMYhOKcW"
      }
    },
    {
      "cell_type": "markdown",
      "source": [
        "Here we will investigate the averege number of words in company names per countries."
      ],
      "metadata": {
        "id": "OeO5Js9aOKcX"
      }
    },
    {
      "cell_type": "code",
      "source": [
        "country_df = df.groupby('country', as_index=False).agg({'name_word_count': 'mean', 'name': 'count'}).rename(columns={'name_word_count': 'mean_name_word', 'name': 'count'})\n",
        "country_df =  country_df[country_df['count'] >= 100].sort_values(by='mean_name_word',ascending=False).reset_index(drop=True)\n",
        "country_df['country'] = country_df['country'].astype('string').str.title()\n",
        "country_df['mean_name_word'] = country_df['mean_name_word'].astype('int16')\n",
        "country_df"
      ],
      "metadata": {
        "execution": {
          "iopub.status.busy": "2022-02-02T18:58:04.21107Z",
          "iopub.execute_input": "2022-02-02T18:58:04.211787Z",
          "iopub.status.idle": "2022-02-02T18:58:06.674985Z",
          "shell.execute_reply.started": "2022-02-02T18:58:04.211751Z",
          "shell.execute_reply": "2022-02-02T18:58:06.674392Z"
        },
        "trusted": true,
        "id": "t7TvAMzVOKcX"
      },
      "execution_count": null,
      "outputs": []
    },
    {
      "cell_type": "code",
      "source": [
        "# merge country_df and gdf\n",
        "merged = gdf.merge(country_df, left_on='country', right_on='country', how = 'left')\n",
        "merged.head()"
      ],
      "metadata": {
        "execution": {
          "iopub.status.busy": "2022-02-02T18:58:06.675939Z",
          "iopub.execute_input": "2022-02-02T18:58:06.676493Z",
          "iopub.status.idle": "2022-02-02T18:58:06.707661Z",
          "shell.execute_reply.started": "2022-02-02T18:58:06.676463Z",
          "shell.execute_reply": "2022-02-02T18:58:06.707034Z"
        },
        "trusted": true,
        "id": "1j-dn3B3OKcX"
      },
      "execution_count": null,
      "outputs": []
    },
    {
      "cell_type": "code",
      "source": [
        "fig, ax = plt.subplots(1, figsize=(20,15))\n",
        "\n",
        "merged.plot(color='grey', ax=ax, label = 'No data')\n",
        "merged.dropna().plot(column='mean_name_word', cmap='rainbow', ax=ax, scheme='natural_breaks', k=3, legend=True, legend_kwds={'loc': 'lower left'})\n",
        "\n",
        "plt.title('Averege number of words in company names by countries')\n",
        "\n",
        "#fixing floating-point counts, making them integer:\n",
        "leg = ax.get_legend()\n",
        "for text in leg.get_texts():\n",
        "    text.set_text(text.get_text().replace('.00', ''))\n",
        "\n",
        "plt.axis('off');"
      ],
      "metadata": {
        "execution": {
          "iopub.status.busy": "2022-02-02T18:58:06.708771Z",
          "iopub.execute_input": "2022-02-02T18:58:06.709088Z",
          "iopub.status.idle": "2022-02-02T18:58:07.347548Z",
          "shell.execute_reply.started": "2022-02-02T18:58:06.709061Z",
          "shell.execute_reply": "2022-02-02T18:58:07.346664Z"
        },
        "trusted": true,
        "id": "zZAjnVx3OKcX"
      },
      "execution_count": null,
      "outputs": []
    },
    {
      "cell_type": "markdown",
      "source": [
        "There is high similarity with the map showing averege number of characters in company names by countries. It is obvious as there is a correlation between number of characters and words. Some countries with high average number of characters have medium average number of words. I assume the words used by these countries are longer."
      ],
      "metadata": {
        "id": "o95ZVWp8OKcX"
      }
    },
    {
      "cell_type": "markdown",
      "source": [
        "### country and name_punc_count"
      ],
      "metadata": {
        "cell_id": "00142-bd4dd02b-364f-445b-8742-fe80a5779328",
        "deepnote_cell_type": "markdown",
        "id": "oWLuJvL1OKcX"
      }
    },
    {
      "cell_type": "markdown",
      "source": [
        "Now it is time for investigating the averege number of punctuations in company names per countries."
      ],
      "metadata": {
        "id": "og3e-EUhOKcX"
      }
    },
    {
      "cell_type": "code",
      "source": [
        "country_df = df.groupby('country', as_index=False).agg({'name_punc_count': 'mean', 'name': 'count'}).rename(columns={'name_punc_count': 'mean_name_punct_count', 'name': 'count'})\n",
        "country_df =  country_df[country_df['count'] >= 100].sort_values(by='mean_name_punct_count',ascending=False).reset_index(drop=True)\n",
        "country_df['country'] = country_df['country'].astype('string').str.title()\n",
        "country_df['mean_name_punct_count'] = country_df['mean_name_punct_count'].round(2)\n",
        "country_df"
      ],
      "metadata": {
        "execution": {
          "iopub.status.busy": "2022-02-02T18:58:07.349171Z",
          "iopub.execute_input": "2022-02-02T18:58:07.349691Z",
          "iopub.status.idle": "2022-02-02T18:58:09.788635Z",
          "shell.execute_reply.started": "2022-02-02T18:58:07.34965Z",
          "shell.execute_reply": "2022-02-02T18:58:09.787771Z"
        },
        "trusted": true,
        "id": "gEEsGSogOKcY"
      },
      "execution_count": null,
      "outputs": []
    },
    {
      "cell_type": "code",
      "source": [
        "# merge country_df and gdf\n",
        "merged = gdf.merge(country_df, left_on='country', right_on='country', how = 'left')\n",
        "merged.head()"
      ],
      "metadata": {
        "execution": {
          "iopub.status.busy": "2022-02-02T18:58:09.790181Z",
          "iopub.execute_input": "2022-02-02T18:58:09.790676Z",
          "iopub.status.idle": "2022-02-02T18:58:09.822965Z",
          "shell.execute_reply.started": "2022-02-02T18:58:09.790624Z",
          "shell.execute_reply": "2022-02-02T18:58:09.822282Z"
        },
        "trusted": true,
        "id": "iJgjT7O8OKcY"
      },
      "execution_count": null,
      "outputs": []
    },
    {
      "cell_type": "code",
      "source": [
        "fig, ax = plt.subplots(1, figsize=(20,15))\n",
        "\n",
        "merged.plot(color='grey', ax=ax, label = 'No data')\n",
        "merged.dropna().plot(column='mean_name_punct_count', cmap='rainbow', ax=ax, scheme='natural_breaks', k=3, legend=True, legend_kwds={'loc': 'lower left'})\n",
        "\n",
        "plt.title('Averege number of punctuations in company names by countries')\n",
        "\n",
        "#fixing floating-point counts, making them integer:\n",
        "leg = ax.get_legend()\n",
        "for text in leg.get_texts():\n",
        "    text.set_text(text.get_text().replace('.00', ''))\n",
        "\n",
        "plt.axis('off');"
      ],
      "metadata": {
        "execution": {
          "iopub.status.busy": "2022-02-02T18:58:09.824078Z",
          "iopub.execute_input": "2022-02-02T18:58:09.824435Z",
          "iopub.status.idle": "2022-02-02T18:58:10.551837Z",
          "shell.execute_reply.started": "2022-02-02T18:58:09.824405Z",
          "shell.execute_reply": "2022-02-02T18:58:10.550933Z"
        },
        "trusted": true,
        "id": "0qfBn4-aOKcY"
      },
      "execution_count": null,
      "outputs": []
    },
    {
      "cell_type": "markdown",
      "source": [
        "Some countries in europe, the south east asia and south america have company names with a high probability of including a punctuation. Let's see who they are."
      ],
      "metadata": {
        "id": "Dd-vvQLIOKcY"
      }
    },
    {
      "cell_type": "code",
      "source": [
        "country_df[country_df['mean_name_punct_count'] >= 1]"
      ],
      "metadata": {
        "execution": {
          "iopub.status.busy": "2022-02-02T18:58:10.553088Z",
          "iopub.execute_input": "2022-02-02T18:58:10.553344Z",
          "iopub.status.idle": "2022-02-02T18:58:10.565578Z",
          "shell.execute_reply.started": "2022-02-02T18:58:10.553314Z",
          "shell.execute_reply": "2022-02-02T18:58:10.564708Z"
        },
        "trusted": true,
        "id": "ARzwJlxPOKcY"
      },
      "execution_count": null,
      "outputs": []
    },
    {
      "cell_type": "markdown",
      "source": [
        "### country and name_digit_count"
      ],
      "metadata": {
        "cell_id": "00142-bd4dd02b-364f-445b-8742-fe80a5779328",
        "deepnote_cell_type": "markdown",
        "id": "vyNq9AkXOKcY"
      }
    },
    {
      "cell_type": "markdown",
      "source": [
        "Digits are not that much common in company name. But they appear in some names to represent something, for example, the year they were founded. Let's see if there is a relation between country and average number of digits in company names."
      ],
      "metadata": {
        "id": "mZMQWOvtOKcZ"
      }
    },
    {
      "cell_type": "code",
      "source": [
        "country_df = df.groupby('country', as_index=False).agg({'name_digit_count': 'mean', 'name': 'count'}).rename(columns={'name_digit_count': 'mean_name_digit_count', 'name': 'count'})\n",
        "country_df =  country_df[country_df['count'] >= 100].sort_values(by='mean_name_digit_count',ascending=False).reset_index(drop=True)\n",
        "country_df['country'] = country_df['country'].astype('string').str.title()\n",
        "country_df['mean_name_digit_count'] = country_df['mean_name_digit_count'].round(2)\n",
        "country_df"
      ],
      "metadata": {
        "execution": {
          "iopub.status.busy": "2022-02-02T18:58:10.5669Z",
          "iopub.execute_input": "2022-02-02T18:58:10.567417Z",
          "iopub.status.idle": "2022-02-02T18:58:13.031189Z",
          "shell.execute_reply.started": "2022-02-02T18:58:10.567369Z",
          "shell.execute_reply": "2022-02-02T18:58:13.030587Z"
        },
        "trusted": true,
        "id": "z4YJz3BzOKcZ"
      },
      "execution_count": null,
      "outputs": []
    },
    {
      "cell_type": "markdown",
      "source": [
        "The maximum value for average count of digits per country is 0.15 which is very low. This is expected as most company names doesn't include digits."
      ],
      "metadata": {
        "id": "thVFXYe9OKcZ"
      }
    },
    {
      "cell_type": "code",
      "source": [
        "# merge country_df and gdf\n",
        "merged = gdf.merge(country_df, left_on='country', right_on='country', how = 'left')\n",
        "merged.head()"
      ],
      "metadata": {
        "execution": {
          "iopub.status.busy": "2022-02-02T18:58:13.032182Z",
          "iopub.execute_input": "2022-02-02T18:58:13.032571Z",
          "iopub.status.idle": "2022-02-02T18:58:13.062173Z",
          "shell.execute_reply.started": "2022-02-02T18:58:13.032518Z",
          "shell.execute_reply": "2022-02-02T18:58:13.061386Z"
        },
        "trusted": true,
        "id": "XgDYIbJFOKcZ"
      },
      "execution_count": null,
      "outputs": []
    },
    {
      "cell_type": "code",
      "source": [
        "fig, ax = plt.subplots(1, figsize=(20,15))\n",
        "\n",
        "merged.plot(color='grey', ax=ax, label = 'No data')\n",
        "merged.dropna().plot(column='mean_name_digit_count', cmap='rainbow', ax=ax, scheme='natural_breaks', k=5, legend=True, legend_kwds={'loc': 'lower left'})\n",
        "\n",
        "plt.title('Averege number of digits in company names by countries')\n",
        "\n",
        "#fixing floating-point counts, making them integer:\n",
        "leg = ax.get_legend()\n",
        "for text in leg.get_texts():\n",
        "    text.set_text(text.get_text().replace('.00', ''))\n",
        "\n",
        "plt.axis('off');"
      ],
      "metadata": {
        "execution": {
          "iopub.status.busy": "2022-02-02T18:58:13.063513Z",
          "iopub.execute_input": "2022-02-02T18:58:13.06426Z",
          "iopub.status.idle": "2022-02-02T18:58:14.147064Z",
          "shell.execute_reply.started": "2022-02-02T18:58:13.064213Z",
          "shell.execute_reply": "2022-02-02T18:58:14.146212Z"
        },
        "trusted": true,
        "id": "roNceqtsOKcZ"
      },
      "execution_count": null,
      "outputs": []
    },
    {
      "cell_type": "code",
      "source": [
        "country_df[country_df['mean_name_digit_count'] > 0.07]"
      ],
      "metadata": {
        "execution": {
          "iopub.status.busy": "2022-02-02T18:58:14.148265Z",
          "iopub.execute_input": "2022-02-02T18:58:14.148475Z",
          "iopub.status.idle": "2022-02-02T18:58:14.162055Z",
          "shell.execute_reply.started": "2022-02-02T18:58:14.148449Z",
          "shell.execute_reply": "2022-02-02T18:58:14.161204Z"
        },
        "trusted": true,
        "id": "TGUfXYsVOKcZ"
      },
      "execution_count": null,
      "outputs": []
    },
    {
      "cell_type": "markdown",
      "source": [
        "### country and name_non_aschii_char_count"
      ],
      "metadata": {
        "cell_id": "00142-bd4dd02b-364f-445b-8742-fe80a5779328",
        "deepnote_cell_type": "markdown",
        "id": "YGzvsGbvOKca"
      }
    },
    {
      "cell_type": "markdown",
      "source": [
        "Company names with non-aschii characters are probably going to be from non-english speaking countries. But the question is which countries have the highest number of average non-aschii characters. Let's find out."
      ],
      "metadata": {
        "id": "7uNegEiFOKca"
      }
    },
    {
      "cell_type": "code",
      "source": [
        "country_df = df.groupby('country', as_index=False).agg({'name_non_aschii_char_count': 'mean', 'name': 'count'}).rename(columns={'name_non_aschii_char_count': 'mean_name_non_aschii_char_count', 'name': 'count'})\n",
        "country_df =  country_df[country_df['count'] >= 100].sort_values(by='mean_name_non_aschii_char_count',ascending=False).reset_index(drop=True)\n",
        "country_df['country'] = country_df['country'].astype('string').str.title()\n",
        "country_df['mean_name_non_aschii_char_count'] = country_df['mean_name_non_aschii_char_count'].round(2)\n",
        "country_df"
      ],
      "metadata": {
        "execution": {
          "iopub.status.busy": "2022-02-02T18:58:14.163578Z",
          "iopub.execute_input": "2022-02-02T18:58:14.163882Z",
          "iopub.status.idle": "2022-02-02T18:58:16.610152Z",
          "shell.execute_reply.started": "2022-02-02T18:58:14.163839Z",
          "shell.execute_reply": "2022-02-02T18:58:16.609317Z"
        },
        "trusted": true,
        "id": "BUMBWrMGOKca"
      },
      "execution_count": null,
      "outputs": []
    },
    {
      "cell_type": "code",
      "source": [
        "# merge country_df and gdf\n",
        "merged = gdf.merge(country_df, left_on='country', right_on='country', how = 'left')\n",
        "merged.head()"
      ],
      "metadata": {
        "execution": {
          "iopub.status.busy": "2022-02-02T18:58:16.620976Z",
          "iopub.execute_input": "2022-02-02T18:58:16.621351Z",
          "iopub.status.idle": "2022-02-02T18:58:16.656023Z",
          "shell.execute_reply.started": "2022-02-02T18:58:16.621321Z",
          "shell.execute_reply": "2022-02-02T18:58:16.655285Z"
        },
        "trusted": true,
        "id": "1rYSJfdJOKca"
      },
      "execution_count": null,
      "outputs": []
    },
    {
      "cell_type": "code",
      "source": [
        "fig, ax = plt.subplots(1, figsize=(20,15))\n",
        "\n",
        "merged.plot(color='grey', ax=ax, label = 'No data')\n",
        "merged.dropna().plot(column='mean_name_non_aschii_char_count', cmap='rainbow', ax=ax, scheme='natural_breaks', k=5, legend=True, legend_kwds={'loc': 'lower left'})\n",
        "\n",
        "plt.title('Averege number of non-aschii characters in company names by countries')\n",
        "\n",
        "#fixing floating-point counts, making them integer:\n",
        "leg = ax.get_legend()\n",
        "for text in leg.get_texts():\n",
        "    text.set_text(text.get_text().replace('.00', ''))\n",
        "\n",
        "plt.axis('off');"
      ],
      "metadata": {
        "execution": {
          "iopub.status.busy": "2022-02-02T18:58:16.657575Z",
          "iopub.execute_input": "2022-02-02T18:58:16.658153Z",
          "iopub.status.idle": "2022-02-02T18:58:17.439863Z",
          "shell.execute_reply.started": "2022-02-02T18:58:16.658109Z",
          "shell.execute_reply": "2022-02-02T18:58:17.439063Z"
        },
        "trusted": true,
        "id": "LGB9GnL5OKca"
      },
      "execution_count": null,
      "outputs": []
    },
    {
      "cell_type": "markdown",
      "source": [
        "Let's find out which countries are coded by red."
      ],
      "metadata": {
        "id": "big7pHKwOKca"
      }
    },
    {
      "cell_type": "code",
      "source": [
        "country_df[country_df['mean_name_non_aschii_char_count'] >= 0.97]"
      ],
      "metadata": {
        "execution": {
          "iopub.status.busy": "2022-02-02T18:58:17.441162Z",
          "iopub.execute_input": "2022-02-02T18:58:17.442041Z",
          "iopub.status.idle": "2022-02-02T18:58:17.454124Z",
          "shell.execute_reply.started": "2022-02-02T18:58:17.441992Z",
          "shell.execute_reply": "2022-02-02T18:58:17.453513Z"
        },
        "trusted": true,
        "id": "PRJ0JYfUOKca"
      },
      "execution_count": null,
      "outputs": []
    },
    {
      "cell_type": "markdown",
      "source": [
        "### country and size range"
      ],
      "metadata": {
        "id": "qwPYxLNnOKcb"
      }
    },
    {
      "cell_type": "code",
      "source": [
        "country_df = df.groupby('country', as_index=False).agg({'size_category': 'mean', 'name': 'count'}).rename(columns={'size_category': 'mean_size_category', 'name': 'count'})\n",
        "country_df =  country_df[country_df['count'] >= 100].sort_values(by='mean_size_category',ascending=False).reset_index(drop=True)\n",
        "country_df['country'] = country_df['country'].astype('string').str.title()\n",
        "country_df['mean_size_category'] = country_df['mean_size_category'].round(2)\n",
        "country_df"
      ],
      "metadata": {
        "execution": {
          "iopub.status.busy": "2022-02-02T18:58:17.455204Z",
          "iopub.execute_input": "2022-02-02T18:58:17.456051Z",
          "iopub.status.idle": "2022-02-02T18:58:19.894838Z",
          "shell.execute_reply.started": "2022-02-02T18:58:17.456014Z",
          "shell.execute_reply": "2022-02-02T18:58:19.893965Z"
        },
        "trusted": true,
        "id": "2jMHhr4HOKcb"
      },
      "execution_count": null,
      "outputs": []
    },
    {
      "cell_type": "code",
      "source": [
        "# merge country_df and gdf\n",
        "merged = gdf.merge(country_df, left_on='country', right_on='country', how = 'left')\n",
        "merged.head()"
      ],
      "metadata": {
        "execution": {
          "iopub.status.busy": "2022-02-02T18:58:19.896536Z",
          "iopub.execute_input": "2022-02-02T18:58:19.89694Z",
          "iopub.status.idle": "2022-02-02T18:58:19.932848Z",
          "shell.execute_reply.started": "2022-02-02T18:58:19.896892Z",
          "shell.execute_reply": "2022-02-02T18:58:19.932004Z"
        },
        "trusted": true,
        "id": "GHOXn8gGOKcc"
      },
      "execution_count": null,
      "outputs": []
    },
    {
      "cell_type": "code",
      "source": [
        "fig, ax = plt.subplots(1, figsize=(20,15))\n",
        "\n",
        "merged.plot(color='grey', ax=ax, label = 'No data')\n",
        "merged.dropna().plot(column='mean_size_category', cmap='rainbow', ax=ax, scheme='natural_breaks', k=5, legend=True, legend_kwds={'loc': 'lower left'})\n",
        "\n",
        "plt.title('Averege size range category of companies by countries')\n",
        "\n",
        "#fixing floating-point counts, making them integer:\n",
        "leg = ax.get_legend()\n",
        "for text in leg.get_texts():\n",
        "    text.set_text(text.get_text().replace('.00', ''))\n",
        "\n",
        "plt.axis('off');"
      ],
      "metadata": {
        "execution": {
          "iopub.status.busy": "2022-02-02T18:58:19.934462Z",
          "iopub.execute_input": "2022-02-02T18:58:19.93501Z",
          "iopub.status.idle": "2022-02-02T18:58:20.736836Z",
          "shell.execute_reply.started": "2022-02-02T18:58:19.934965Z",
          "shell.execute_reply": "2022-02-02T18:58:20.735928Z"
        },
        "trusted": true,
        "id": "xvZNy1qEOKcc"
      },
      "execution_count": null,
      "outputs": []
    },
    {
      "cell_type": "markdown",
      "source": [
        "The mean size category ranges from 1.23 to 1.88 in every country with more than or equal to 100 companies in the dataset. This indicates that there are many small companies in these countries which is obvious. That is why the average is lower."
      ],
      "metadata": {
        "id": "gqHQL609OKcd"
      }
    },
    {
      "cell_type": "markdown",
      "source": [
        "### name and industry"
      ],
      "metadata": {
        "id": "bWl-az9ZOKcd"
      }
    },
    {
      "cell_type": "markdown",
      "source": [
        "Here we will examine how many and which companies contain words from their respective industries in their names."
      ],
      "metadata": {
        "id": "fK7GKgqGOKcd"
      }
    },
    {
      "cell_type": "code",
      "source": [
        "def industry_in_name(row):\n",
        "    puncs = [punc for punc in string.punctuation]\n",
        "    puncs.append('and')\n",
        "    industry_words = set(filter(lambda x: x not in puncs, re.split(r'\\s|-', row['industry'])))\n",
        "    name_words = re.split(r'\\s|-', row['name'])\n",
        "    return len([i for i in name_words if i in industry_words])\n",
        "df['industry_word_in_name_count'] = df.apply(industry_in_name, axis=1)"
      ],
      "metadata": {
        "execution": {
          "iopub.status.busy": "2022-02-02T18:58:20.738625Z",
          "iopub.execute_input": "2022-02-02T18:58:20.73926Z",
          "iopub.status.idle": "2022-02-02T19:01:41.835534Z",
          "shell.execute_reply.started": "2022-02-02T18:58:20.739199Z",
          "shell.execute_reply": "2022-02-02T19:01:41.834577Z"
        },
        "trusted": true,
        "id": "dvlbax-YOKcd"
      },
      "execution_count": null,
      "outputs": []
    },
    {
      "cell_type": "code",
      "source": [
        "name_industry_df = df[df['industry_word_in_name_count'] > 0]\n",
        "name_industry_df"
      ],
      "metadata": {
        "execution": {
          "iopub.status.busy": "2022-02-02T19:01:41.836767Z",
          "iopub.execute_input": "2022-02-02T19:01:41.837006Z",
          "iopub.status.idle": "2022-02-02T19:01:42.894538Z",
          "shell.execute_reply.started": "2022-02-02T19:01:41.836976Z",
          "shell.execute_reply": "2022-02-02T19:01:42.89376Z"
        },
        "trusted": true,
        "id": "tQFpX2j8OKce"
      },
      "execution_count": null,
      "outputs": []
    },
    {
      "cell_type": "markdown",
      "source": [
        "Let's explore these companies with respect to their country, size range, industry and year founded."
      ],
      "metadata": {
        "id": "mBCva9sLOKce"
      }
    },
    {
      "cell_type": "markdown",
      "source": [
        "#### industry_word_in_name_count and country"
      ],
      "metadata": {
        "id": "0udvYe6JOKce"
      }
    },
    {
      "cell_type": "code",
      "source": [
        "country_df = name_industry_df.groupby('country', as_index=False).agg({'name': 'count'}).rename(columns={'name': 'count'})\n",
        "country_df =  country_df.sort_values(by='count',ascending=False).reset_index(drop=True)\n",
        "country_counts_df = df['country'].value_counts().rename_axis('country').reset_index(name='total_count')\n",
        "country_df = country_df.merge(country_counts_df, left_on='country', right_on='country', how = 'left')\n",
        "country_df['country'] = country_df['country'].astype('string').str.title()\n",
        "country_df"
      ],
      "metadata": {
        "execution": {
          "iopub.status.busy": "2022-02-02T19:01:42.895786Z",
          "iopub.execute_input": "2022-02-02T19:01:42.896026Z",
          "iopub.status.idle": "2022-02-02T19:01:43.914988Z",
          "shell.execute_reply.started": "2022-02-02T19:01:42.895996Z",
          "shell.execute_reply": "2022-02-02T19:01:43.914199Z"
        },
        "trusted": true,
        "id": "JorpwlzkOKcf"
      },
      "execution_count": null,
      "outputs": []
    },
    {
      "cell_type": "code",
      "source": [
        "# merge country_df and gdf\n",
        "merged = gdf.merge(country_df, left_on='country', right_on='country', how = 'left')\n",
        "merged.head()"
      ],
      "metadata": {
        "execution": {
          "iopub.status.busy": "2022-02-02T19:01:43.916118Z",
          "iopub.execute_input": "2022-02-02T19:01:43.916344Z",
          "iopub.status.idle": "2022-02-02T19:01:43.950916Z",
          "shell.execute_reply.started": "2022-02-02T19:01:43.916318Z",
          "shell.execute_reply": "2022-02-02T19:01:43.95032Z"
        },
        "trusted": true,
        "id": "w5KOfTycOKcf"
      },
      "execution_count": null,
      "outputs": []
    },
    {
      "cell_type": "code",
      "source": [
        "fig, ax = plt.subplots(1, figsize=(20,15))\n",
        "\n",
        "merged.plot(color='grey', ax=ax, label = 'No data')\n",
        "merged.dropna().plot(column='count', cmap='rainbow', ax=ax, scheme='natural_breaks', k=5, legend=True, legend_kwds={'loc': 'lower left'})\n",
        "\n",
        "plt.title('Number of company names containing atleast one word from their industry by country')\n",
        "\n",
        "#fixing floating-point counts, making them integer:\n",
        "leg = ax.get_legend()\n",
        "for text in leg.get_texts():\n",
        "    text.set_text(text.get_text().replace('.00', ''))\n",
        "\n",
        "plt.axis('off');"
      ],
      "metadata": {
        "execution": {
          "iopub.status.busy": "2022-02-02T19:01:43.951954Z",
          "iopub.execute_input": "2022-02-02T19:01:43.952291Z",
          "iopub.status.idle": "2022-02-02T19:01:44.747101Z",
          "shell.execute_reply.started": "2022-02-02T19:01:43.952263Z",
          "shell.execute_reply": "2022-02-02T19:01:44.746251Z"
        },
        "trusted": true,
        "id": "lzMiO75sOKcg"
      },
      "execution_count": null,
      "outputs": []
    },
    {
      "cell_type": "markdown",
      "source": [
        "The united states dominates here. But this maybe due to its high number of companies in the dataset as compared to other companies."
      ],
      "metadata": {
        "id": "zKbb2YhVOKcg"
      }
    },
    {
      "cell_type": "markdown",
      "source": [
        "#### industry_word_in_name_count and size range"
      ],
      "metadata": {
        "id": "g0Hx_UuDOKcg"
      }
    },
    {
      "cell_type": "markdown",
      "source": [
        "Let us check if these names are related to size range."
      ],
      "metadata": {
        "id": "y8fev5h1OKcg"
      }
    },
    {
      "cell_type": "code",
      "source": [
        "size_df = name_industry_df.groupby('size range', as_index=False).agg({'name': 'count'}).rename(columns={'name': 'count'})\n",
        "size_counts_df = df['size range'].value_counts().rename_axis('size range').reset_index(name='total_count')\n",
        "size_df = size_df.merge(size_counts_df, left_on='size range', right_on='size range', how = 'left')\n",
        "size_df =  size_df.sort_values(by='count',ascending=False).reset_index(drop=True)\n",
        "size_df"
      ],
      "metadata": {
        "execution": {
          "iopub.status.busy": "2022-02-02T19:01:44.748243Z",
          "iopub.execute_input": "2022-02-02T19:01:44.748453Z",
          "iopub.status.idle": "2022-02-02T19:01:46.035309Z",
          "shell.execute_reply.started": "2022-02-02T19:01:44.748427Z",
          "shell.execute_reply": "2022-02-02T19:01:46.034363Z"
        },
        "trusted": true,
        "id": "QlQ5dkIwOKch"
      },
      "execution_count": null,
      "outputs": []
    },
    {
      "cell_type": "markdown",
      "source": [
        "As we can see from the result above, small sized companies tend to have more companies with names conataining atleast a word from their respective industries. This aligns with the general distibution of size range. So I don't think there is a special connection here."
      ],
      "metadata": {
        "id": "_sfa3en_OKch"
      }
    },
    {
      "cell_type": "markdown",
      "source": [
        "#### industry_word_in_name_count and industry"
      ],
      "metadata": {
        "id": "-0wA73MsOKch"
      }
    },
    {
      "cell_type": "markdown",
      "source": [
        "Let us check if these names are related to which industry."
      ],
      "metadata": {
        "id": "zQ_08UApOKch"
      }
    },
    {
      "cell_type": "code",
      "source": [
        "industry_df = name_industry_df.groupby('industry', as_index=False).agg({'name': 'count'}).rename(columns={'name': 'count'})\n",
        "industry_counts_df = df['industry'].value_counts().rename_axis('industry').reset_index(name='total_count')\n",
        "industry_df = industry_df.merge(industry_counts_df, left_on='industry', right_on='industry', how = 'left')\n",
        "industry_df =  industry_df.sort_values(by='count',ascending=False).reset_index(drop=True)\n",
        "industry_df"
      ],
      "metadata": {
        "execution": {
          "iopub.status.busy": "2022-02-02T19:01:46.036289Z",
          "iopub.execute_input": "2022-02-02T19:01:46.0365Z",
          "iopub.status.idle": "2022-02-02T19:01:47.409704Z",
          "shell.execute_reply.started": "2022-02-02T19:01:46.036474Z",
          "shell.execute_reply": "2022-02-02T19:01:47.409103Z"
        },
        "trusted": true,
        "id": "ZIvQ_0IUOKch"
      },
      "execution_count": null,
      "outputs": []
    },
    {
      "cell_type": "code",
      "source": [
        "industry_df.head(10)"
      ],
      "metadata": {
        "tags": [],
        "execution": {
          "iopub.status.busy": "2022-02-02T19:01:47.411123Z",
          "iopub.execute_input": "2022-02-02T19:01:47.411925Z",
          "iopub.status.idle": "2022-02-02T19:01:47.425208Z",
          "shell.execute_reply.started": "2022-02-02T19:01:47.411874Z",
          "shell.execute_reply": "2022-02-02T19:01:47.424441Z"
        },
        "trusted": true,
        "id": "YsSFjXkUOKch"
      },
      "execution_count": null,
      "outputs": []
    },
    {
      "cell_type": "code",
      "source": [
        "plotly_plot_bar(industry_df.nlargest(10, 'count').sort_values(by='count'), x='count', y='industry', title='Top 10 industries with atleast one word from their industry in their company names')"
      ],
      "metadata": {
        "execution": {
          "iopub.status.busy": "2022-02-02T19:01:47.426946Z",
          "iopub.execute_input": "2022-02-02T19:01:47.427281Z",
          "iopub.status.idle": "2022-02-02T19:01:47.609546Z",
          "shell.execute_reply.started": "2022-02-02T19:01:47.427224Z",
          "shell.execute_reply": "2022-02-02T19:01:47.608402Z"
        },
        "trusted": true,
        "id": "uuensbxhOKch"
      },
      "execution_count": null,
      "outputs": []
    },
    {
      "cell_type": "markdown",
      "source": [
        "The bar chart plotted above shows top 10 industries with words from their respective industry in their company names."
      ],
      "metadata": {
        "id": "jIc6lQpzOKci"
      }
    },
    {
      "cell_type": "markdown",
      "source": [
        "#### industry_word_in_name_count and year founded"
      ],
      "metadata": {
        "id": "zuLLm8MJOKci"
      }
    },
    {
      "cell_type": "code",
      "source": [
        "year_df = name_industry_df.groupby('year founded', as_index=False).agg({'name': 'count'}).rename(columns={'name': 'count'})\n",
        "year_df = year_df[year_df['year founded'] != 0]\n",
        "year_counts_df = df['year founded'].value_counts().rename_axis('year founded').reset_index(name='total_count')\n",
        "year_df = year_df.merge(year_counts_df, left_on='year founded', right_on='year founded', how = 'left')\n",
        "year_df =  year_df.sort_values(by='count',ascending=False).reset_index(drop=True)\n",
        "year_df['year founded'] = year_df['year founded'].astype('string')\n",
        "year_df"
      ],
      "metadata": {
        "execution": {
          "iopub.status.busy": "2022-02-02T19:01:47.610712Z",
          "iopub.execute_input": "2022-02-02T19:01:47.610943Z",
          "iopub.status.idle": "2022-02-02T19:01:47.775927Z",
          "shell.execute_reply.started": "2022-02-02T19:01:47.610914Z",
          "shell.execute_reply": "2022-02-02T19:01:47.775109Z"
        },
        "trusted": true,
        "id": "DLlZHNtEOKci"
      },
      "execution_count": null,
      "outputs": []
    },
    {
      "cell_type": "code",
      "source": [
        "year_df.head(10)"
      ],
      "metadata": {
        "tags": [],
        "execution": {
          "iopub.status.busy": "2022-02-02T19:01:47.777403Z",
          "iopub.execute_input": "2022-02-02T19:01:47.777704Z",
          "iopub.status.idle": "2022-02-02T19:01:47.787438Z",
          "shell.execute_reply.started": "2022-02-02T19:01:47.777662Z",
          "shell.execute_reply": "2022-02-02T19:01:47.786643Z"
        },
        "trusted": true,
        "id": "vGkv8STxOKci"
      },
      "execution_count": null,
      "outputs": []
    },
    {
      "cell_type": "code",
      "source": [
        "plotly_plot_bar(year_df.nlargest(10, 'count').sort_values(by='count'), x='count', y='year founded', title='Top 10 years where companies with atleast one word from their industry in their names were founded')"
      ],
      "metadata": {
        "execution": {
          "iopub.status.busy": "2022-02-02T19:01:47.788831Z",
          "iopub.execute_input": "2022-02-02T19:01:47.789096Z",
          "iopub.status.idle": "2022-02-02T19:01:47.922651Z",
          "shell.execute_reply.started": "2022-02-02T19:01:47.789059Z",
          "shell.execute_reply": "2022-02-02T19:01:47.921849Z"
        },
        "trusted": true,
        "id": "XD5aMDJlOKci"
      },
      "execution_count": null,
      "outputs": []
    },
    {
      "cell_type": "markdown",
      "source": [
        "### name and locality"
      ],
      "metadata": {
        "tags": [],
        "id": "C_lhDMJeOKci"
      }
    },
    {
      "cell_type": "markdown",
      "source": [
        "Here we will examine how many and which companies contain words from their respective localities in their names."
      ],
      "metadata": {
        "id": "wSmkKtElOKci"
      }
    },
    {
      "cell_type": "code",
      "source": [
        "def locality_in_name(row):\n",
        "    if pd.isnull(row['locality']):\n",
        "        return np.nan\n",
        "    puncs = [punc for punc in string.punctuation]\n",
        "    puncs.append('and')\n",
        "    locality_words = set(filter(lambda x: x not in puncs, re.split(r'\\s|-', row['locality'])))\n",
        "    name_words = re.split(r'\\s|-', row['name'])\n",
        "    return len([i for i in name_words if i in locality_words])\n",
        "df['locality_word_in_name_count'] = df.apply(locality_in_name, axis=1)"
      ],
      "metadata": {
        "execution": {
          "iopub.status.busy": "2022-02-02T19:01:47.924185Z",
          "iopub.execute_input": "2022-02-02T19:01:47.924677Z",
          "iopub.status.idle": "2022-02-02T19:05:15.761024Z",
          "shell.execute_reply.started": "2022-02-02T19:01:47.924634Z",
          "shell.execute_reply": "2022-02-02T19:05:15.759455Z"
        },
        "trusted": true,
        "id": "FiN3eIK5OKci"
      },
      "execution_count": null,
      "outputs": []
    },
    {
      "cell_type": "code",
      "source": [
        "name_locality_df = df[df['locality_word_in_name_count'] > 0]\n",
        "name_locality_df"
      ],
      "metadata": {
        "execution": {
          "iopub.status.busy": "2022-02-02T19:05:15.763671Z",
          "iopub.execute_input": "2022-02-02T19:05:15.763974Z",
          "iopub.status.idle": "2022-02-02T19:05:16.115637Z",
          "shell.execute_reply.started": "2022-02-02T19:05:15.763944Z",
          "shell.execute_reply": "2022-02-02T19:05:16.114778Z"
        },
        "trusted": true,
        "id": "76Ejj2Z8OKcj"
      },
      "execution_count": null,
      "outputs": []
    },
    {
      "cell_type": "markdown",
      "source": [
        "Let's explore these companies with respect to their country, size range, industry and year founded."
      ],
      "metadata": {
        "id": "lOZyTmAMOKcj"
      }
    },
    {
      "cell_type": "markdown",
      "source": [
        "#### locality_word_in_name_count and country"
      ],
      "metadata": {
        "id": "t4pfYhdTOKcj"
      }
    },
    {
      "cell_type": "code",
      "source": [
        "country_df = name_locality_df.groupby('country', as_index=False).agg({'name': 'count'}).rename(columns={'name': 'count'})\n",
        "country_df =  country_df.sort_values(by='count',ascending=False).reset_index(drop=True)\n",
        "country_counts_df = df['country'].value_counts().rename_axis('country').reset_index(name='total_count')\n",
        "country_df = country_df.merge(country_counts_df, left_on='country', right_on='country', how = 'left')\n",
        "country_df['country'] = country_df['country'].astype('string').str.title()\n",
        "country_df"
      ],
      "metadata": {
        "execution": {
          "iopub.status.busy": "2022-02-02T19:05:16.117046Z",
          "iopub.execute_input": "2022-02-02T19:05:16.117545Z",
          "iopub.status.idle": "2022-02-02T19:05:16.957497Z",
          "shell.execute_reply.started": "2022-02-02T19:05:16.117498Z",
          "shell.execute_reply": "2022-02-02T19:05:16.956569Z"
        },
        "trusted": true,
        "id": "emB3ZlXlOKcj"
      },
      "execution_count": null,
      "outputs": []
    },
    {
      "cell_type": "code",
      "source": [
        "# merge country_df and gdf\n",
        "merged = gdf.merge(country_df, left_on='country', right_on='country', how = 'left')\n",
        "merged.head()"
      ],
      "metadata": {
        "execution": {
          "iopub.status.busy": "2022-02-02T19:05:16.958981Z",
          "iopub.execute_input": "2022-02-02T19:05:16.95933Z",
          "iopub.status.idle": "2022-02-02T19:05:16.998658Z",
          "shell.execute_reply.started": "2022-02-02T19:05:16.959285Z",
          "shell.execute_reply": "2022-02-02T19:05:16.997934Z"
        },
        "trusted": true,
        "id": "i4xp5GhiOKcj"
      },
      "execution_count": null,
      "outputs": []
    },
    {
      "cell_type": "code",
      "source": [
        "fig, ax = plt.subplots(1, figsize=(20,15))\n",
        "\n",
        "merged.plot(color='grey', ax=ax, label = 'No data')\n",
        "merged.dropna().plot(column='count', cmap='rainbow', ax=ax, scheme='natural_breaks', k=5, legend=True, legend_kwds={'loc': 'lower left'})\n",
        "\n",
        "plt.title('Number of company names containing atleast one word from their locality by country')\n",
        "\n",
        "#fixing floating-point counts, making them integer:\n",
        "leg = ax.get_legend()\n",
        "for text in leg.get_texts():\n",
        "    text.set_text(text.get_text().replace('.00', ''))\n",
        "\n",
        "plt.axis('off');"
      ],
      "metadata": {
        "execution": {
          "iopub.status.busy": "2022-02-02T19:05:16.999965Z",
          "iopub.execute_input": "2022-02-02T19:05:17.00072Z",
          "iopub.status.idle": "2022-02-02T19:05:17.81602Z",
          "shell.execute_reply.started": "2022-02-02T19:05:17.00068Z",
          "shell.execute_reply": "2022-02-02T19:05:17.815401Z"
        },
        "trusted": true,
        "id": "Ey2RqUSJOKcj"
      },
      "execution_count": null,
      "outputs": []
    },
    {
      "cell_type": "markdown",
      "source": [
        "#### locality_word_in_name_count and size range"
      ],
      "metadata": {
        "id": "XohXXurIOKcj"
      }
    },
    {
      "cell_type": "code",
      "source": [
        "size_df = name_locality_df.groupby('size range', as_index=False).agg({'name': 'count'}).rename(columns={'name': 'count'})\n",
        "size_counts_df = df['size range'].value_counts().rename_axis('size range').reset_index(name='total_count')\n",
        "size_df = size_df.merge(size_counts_df, left_on='size range', right_on='size range', how = 'left')\n",
        "size_df =  size_df.sort_values(by='count',ascending=False).reset_index(drop=True)\n",
        "size_df"
      ],
      "metadata": {
        "execution": {
          "iopub.status.busy": "2022-02-02T19:05:17.817348Z",
          "iopub.execute_input": "2022-02-02T19:05:17.817774Z",
          "iopub.status.idle": "2022-02-02T19:05:18.933702Z",
          "shell.execute_reply.started": "2022-02-02T19:05:17.817741Z",
          "shell.execute_reply": "2022-02-02T19:05:18.932783Z"
        },
        "trusted": true,
        "id": "IuuqlWBtOKck"
      },
      "execution_count": null,
      "outputs": []
    },
    {
      "cell_type": "markdown",
      "source": [
        "As we can see from the result above, small sized companies tend to have more companies with names conataining atleast a word from their respective localities. This aligns with the general distibution of size range. So I don't think there is a special connection here."
      ],
      "metadata": {
        "id": "TOkfEmTzOKck"
      }
    },
    {
      "cell_type": "markdown",
      "source": [
        "#### locality_word_in_name_count and industry"
      ],
      "metadata": {
        "id": "yxZGdJ4COKck"
      }
    },
    {
      "cell_type": "code",
      "source": [
        "industry_df = name_locality_df.groupby('industry', as_index=False).agg({'name': 'count'}).rename(columns={'name': 'count'})\n",
        "industry_counts_df = df['industry'].value_counts().rename_axis('industry').reset_index(name='total_count')\n",
        "industry_df = industry_df.merge(industry_counts_df, left_on='industry', right_on='industry', how = 'left')\n",
        "industry_df =  industry_df.sort_values(by='count',ascending=False).reset_index(drop=True)\n",
        "industry_df"
      ],
      "metadata": {
        "execution": {
          "iopub.status.busy": "2022-02-02T19:05:18.935064Z",
          "iopub.execute_input": "2022-02-02T19:05:18.935295Z",
          "iopub.status.idle": "2022-02-02T19:05:20.071323Z",
          "shell.execute_reply.started": "2022-02-02T19:05:18.935267Z",
          "shell.execute_reply": "2022-02-02T19:05:20.070425Z"
        },
        "trusted": true,
        "id": "Jy990ezBOKcl"
      },
      "execution_count": null,
      "outputs": []
    },
    {
      "cell_type": "code",
      "source": [
        "industry_df.head(10)"
      ],
      "metadata": {
        "tags": [],
        "execution": {
          "iopub.status.busy": "2022-02-02T19:05:20.072542Z",
          "iopub.execute_input": "2022-02-02T19:05:20.07278Z",
          "iopub.status.idle": "2022-02-02T19:05:20.08318Z",
          "shell.execute_reply.started": "2022-02-02T19:05:20.072751Z",
          "shell.execute_reply": "2022-02-02T19:05:20.082306Z"
        },
        "trusted": true,
        "id": "wWJUCHc2OKcl"
      },
      "execution_count": null,
      "outputs": []
    },
    {
      "cell_type": "code",
      "source": [
        "plotly_plot_bar(industry_df.nlargest(10, 'count').sort_values(by='count'), x='count', y='industry', title='Top 10 industries with atleast one word from their locality in their company names')"
      ],
      "metadata": {
        "execution": {
          "iopub.status.busy": "2022-02-02T19:05:20.084335Z",
          "iopub.execute_input": "2022-02-02T19:05:20.084576Z",
          "iopub.status.idle": "2022-02-02T19:05:20.272504Z",
          "shell.execute_reply.started": "2022-02-02T19:05:20.084548Z",
          "shell.execute_reply": "2022-02-02T19:05:20.271692Z"
        },
        "trusted": true,
        "id": "AHg7xBi9OKcl"
      },
      "execution_count": null,
      "outputs": []
    },
    {
      "cell_type": "markdown",
      "source": [
        "The bar chart plotted above shows top 10 industries with words from their respective locality in their company names."
      ],
      "metadata": {
        "id": "wCWvDKKvOKcl"
      }
    },
    {
      "cell_type": "markdown",
      "source": [
        "#### locality_word_in_name_count and year founded"
      ],
      "metadata": {
        "id": "_SPcC_scOKcl"
      }
    },
    {
      "cell_type": "code",
      "source": [
        "year_df = name_locality_df.groupby('year founded', as_index=False).agg({'name': 'count'}).rename(columns={'name': 'count'})\n",
        "year_df = year_df[year_df['year founded'] != 0]\n",
        "year_counts_df = df['year founded'].value_counts().rename_axis('year founded').reset_index(name='total_count')\n",
        "year_df = year_df.merge(year_counts_df, left_on='year founded', right_on='year founded', how = 'left')\n",
        "year_df =  year_df.sort_values(by='count',ascending=False).reset_index(drop=True)\n",
        "year_df['year founded'] = year_df['year founded'].astype('string')\n",
        "year_df"
      ],
      "metadata": {
        "execution": {
          "iopub.status.busy": "2022-02-02T19:05:20.274342Z",
          "iopub.execute_input": "2022-02-02T19:05:20.274944Z",
          "iopub.status.idle": "2022-02-02T19:05:20.369313Z",
          "shell.execute_reply.started": "2022-02-02T19:05:20.2749Z",
          "shell.execute_reply": "2022-02-02T19:05:20.368473Z"
        },
        "trusted": true,
        "id": "IxmX_upsOKcl"
      },
      "execution_count": null,
      "outputs": []
    },
    {
      "cell_type": "code",
      "source": [
        "year_df.head(10)"
      ],
      "metadata": {
        "tags": [],
        "execution": {
          "iopub.status.busy": "2022-02-02T19:05:20.3706Z",
          "iopub.execute_input": "2022-02-02T19:05:20.370884Z",
          "iopub.status.idle": "2022-02-02T19:05:20.381123Z",
          "shell.execute_reply.started": "2022-02-02T19:05:20.370844Z",
          "shell.execute_reply": "2022-02-02T19:05:20.380287Z"
        },
        "trusted": true,
        "id": "u4W_ZsQyOKcl"
      },
      "execution_count": null,
      "outputs": []
    },
    {
      "cell_type": "code",
      "source": [
        "plotly_plot_bar(year_df.nlargest(10, 'count').sort_values(by='count'), x='count', y='year founded', title='Top 10 years where companies with atleast one word from their locality in their names were founded')"
      ],
      "metadata": {
        "execution": {
          "iopub.status.busy": "2022-02-02T19:05:20.382342Z",
          "iopub.execute_input": "2022-02-02T19:05:20.38258Z",
          "iopub.status.idle": "2022-02-02T19:05:20.533603Z",
          "shell.execute_reply.started": "2022-02-02T19:05:20.382544Z",
          "shell.execute_reply": "2022-02-02T19:05:20.532718Z"
        },
        "trusted": true,
        "id": "aYvy9uGBOKcm"
      },
      "execution_count": null,
      "outputs": []
    },
    {
      "cell_type": "markdown",
      "source": [
        "### name and year founded"
      ],
      "metadata": {
        "id": "c-Vn7teoOKcm"
      }
    },
    {
      "cell_type": "markdown",
      "source": [
        "Here we will examine how many and which companies contain words from their respective years they were founded in their names."
      ],
      "metadata": {
        "id": "-fe6HAO3OKcm"
      }
    },
    {
      "cell_type": "code",
      "source": [
        "def year_in_name(row):\n",
        "    if (row['year founded'] == 0):\n",
        "        return None\n",
        "    year = row['year founded']\n",
        "    regexp = re.compile(f'{year}')\n",
        "    return regexp.search(row['name'])\n",
        "\n",
        "df['year_in_name'] = df.apply(year_in_name, axis=1).astype('bool').astype('int16')"
      ],
      "metadata": {
        "execution": {
          "iopub.status.busy": "2022-02-02T19:05:20.534801Z",
          "iopub.execute_input": "2022-02-02T19:05:20.536181Z",
          "iopub.status.idle": "2022-02-02T19:07:39.146919Z",
          "shell.execute_reply.started": "2022-02-02T19:05:20.536134Z",
          "shell.execute_reply": "2022-02-02T19:07:39.145719Z"
        },
        "trusted": true,
        "id": "FVlld8YbOKcm"
      },
      "execution_count": null,
      "outputs": []
    },
    {
      "cell_type": "code",
      "source": [
        "name_year_df = df[df['year_in_name'] > 0]\n",
        "name_year_df"
      ],
      "metadata": {
        "tags": [],
        "execution": {
          "iopub.status.busy": "2022-02-02T19:07:39.148322Z",
          "iopub.execute_input": "2022-02-02T19:07:39.148537Z",
          "iopub.status.idle": "2022-02-02T19:07:39.19985Z",
          "shell.execute_reply.started": "2022-02-02T19:07:39.148512Z",
          "shell.execute_reply": "2022-02-02T19:07:39.198968Z"
        },
        "trusted": true,
        "id": "FEhnxZfGOKcm"
      },
      "execution_count": null,
      "outputs": []
    },
    {
      "cell_type": "markdown",
      "source": [
        "Let's explore these companies with respect to their country, size range, industry and year founded."
      ],
      "metadata": {
        "id": "C_0efCXcOKcm"
      }
    },
    {
      "cell_type": "markdown",
      "source": [
        "#### year_in_name and country"
      ],
      "metadata": {
        "id": "JmBG5OGWOKcm"
      }
    },
    {
      "cell_type": "code",
      "source": [
        "country_df = name_year_df.groupby('country', as_index=False).agg({'name': 'count'}).rename(columns={'name': 'count'})\n",
        "country_df =  country_df.sort_values(by='count',ascending=False).reset_index(drop=True)\n",
        "country_counts_df = df['country'].value_counts().rename_axis('country').reset_index(name='total_count')\n",
        "country_df = country_df.merge(country_counts_df, left_on='country', right_on='country', how = 'left')\n",
        "country_df['country'] = country_df['country'].astype('string').str.title()\n",
        "country_df"
      ],
      "metadata": {
        "execution": {
          "iopub.status.busy": "2022-02-02T19:07:39.201631Z",
          "iopub.execute_input": "2022-02-02T19:07:39.20207Z",
          "iopub.status.idle": "2022-02-02T19:07:40.007071Z",
          "shell.execute_reply.started": "2022-02-02T19:07:39.202024Z",
          "shell.execute_reply": "2022-02-02T19:07:40.00619Z"
        },
        "trusted": true,
        "id": "5ATv6m8OOKcn"
      },
      "execution_count": null,
      "outputs": []
    },
    {
      "cell_type": "code",
      "source": [
        "# merge country_df and gdf\n",
        "merged = gdf.merge(country_df, left_on='country', right_on='country', how = 'left')\n",
        "merged.head()"
      ],
      "metadata": {
        "tags": [],
        "execution": {
          "iopub.status.busy": "2022-02-02T19:07:40.008434Z",
          "iopub.execute_input": "2022-02-02T19:07:40.008648Z",
          "iopub.status.idle": "2022-02-02T19:07:40.042705Z",
          "shell.execute_reply.started": "2022-02-02T19:07:40.008616Z",
          "shell.execute_reply": "2022-02-02T19:07:40.042012Z"
        },
        "trusted": true,
        "id": "i9j_ijWwOKcn"
      },
      "execution_count": null,
      "outputs": []
    },
    {
      "cell_type": "code",
      "source": [
        "fig, ax = plt.subplots(1, figsize=(20,15))\n",
        "\n",
        "merged.plot(color='grey', ax=ax, label = 'No data')\n",
        "merged.dropna().plot(column='count', cmap='rainbow', ax=ax, scheme='natural_breaks', k=5, legend=True, legend_kwds={'loc': 'lower left'})\n",
        "\n",
        "plt.title('Number of company names containing the year they were founded by country')\n",
        "\n",
        "#fixing floating-point counts, making them integer:\n",
        "leg = ax.get_legend()\n",
        "for text in leg.get_texts():\n",
        "    text.set_text(text.get_text().replace('.00', ''))\n",
        "\n",
        "plt.axis('off');"
      ],
      "metadata": {
        "execution": {
          "iopub.status.busy": "2022-02-02T19:07:40.044053Z",
          "iopub.execute_input": "2022-02-02T19:07:40.044292Z",
          "iopub.status.idle": "2022-02-02T19:07:40.774576Z",
          "shell.execute_reply.started": "2022-02-02T19:07:40.044265Z",
          "shell.execute_reply": "2022-02-02T19:07:40.773715Z"
        },
        "trusted": true,
        "id": "miz26NItOKcn"
      },
      "execution_count": null,
      "outputs": []
    },
    {
      "cell_type": "markdown",
      "source": [
        "#### year_in_name and size range"
      ],
      "metadata": {
        "id": "uFh6IRSxOKcn"
      }
    },
    {
      "cell_type": "markdown",
      "source": [
        "Let us check if these names are related to size range."
      ],
      "metadata": {
        "id": "kDuUQw9dOKcn"
      }
    },
    {
      "cell_type": "code",
      "source": [
        "size_df = name_year_df.groupby('size range', as_index=False).agg({'name': 'count'}).rename(columns={'name': 'count'})\n",
        "size_counts_df = df['size range'].value_counts().rename_axis('size range').reset_index(name='total_count')\n",
        "size_df = size_df.merge(size_counts_df, left_on='size range', right_on='size range', how = 'left')\n",
        "size_df =  size_df.sort_values(by='count',ascending=False).reset_index(drop=True)\n",
        "size_df"
      ],
      "metadata": {
        "execution": {
          "iopub.status.busy": "2022-02-02T19:07:40.775882Z",
          "iopub.execute_input": "2022-02-02T19:07:40.776092Z",
          "iopub.status.idle": "2022-02-02T19:07:41.829925Z",
          "shell.execute_reply.started": "2022-02-02T19:07:40.776067Z",
          "shell.execute_reply": "2022-02-02T19:07:41.829156Z"
        },
        "trusted": true,
        "id": "6PSLNBJpOKcn"
      },
      "execution_count": null,
      "outputs": []
    },
    {
      "cell_type": "markdown",
      "source": [
        "As we can see from the result above, if a company's name contains the year it was founded the company tends to have a small number of employees. Again this also aligns with the general distibution of size range. So I don't think there is a special connection here."
      ],
      "metadata": {
        "id": "W5rFyXUBOKcn"
      }
    },
    {
      "cell_type": "markdown",
      "source": [
        "#### year_in_name and industry"
      ],
      "metadata": {
        "id": "zBb9zPdvOKco"
      }
    },
    {
      "cell_type": "markdown",
      "source": [
        "Let us check if these names are related to which industry."
      ],
      "metadata": {
        "id": "1FY-M1F6OKco"
      }
    },
    {
      "cell_type": "code",
      "source": [
        "industry_df = name_year_df.groupby('industry', as_index=False).agg({'name': 'count'}).rename(columns={'name': 'count'})\n",
        "industry_counts_df = df['industry'].value_counts().rename_axis('industry').reset_index(name='total_count')\n",
        "industry_df = industry_df.merge(industry_counts_df, left_on='industry', right_on='industry', how = 'left')\n",
        "industry_df =  industry_df.sort_values(by='count',ascending=False).reset_index(drop=True)\n",
        "industry_df"
      ],
      "metadata": {
        "execution": {
          "iopub.status.busy": "2022-02-02T19:07:41.831059Z",
          "iopub.execute_input": "2022-02-02T19:07:41.831318Z",
          "iopub.status.idle": "2022-02-02T19:07:42.916625Z",
          "shell.execute_reply.started": "2022-02-02T19:07:41.831286Z",
          "shell.execute_reply": "2022-02-02T19:07:42.915737Z"
        },
        "trusted": true,
        "id": "mmKSujf_OKco"
      },
      "execution_count": null,
      "outputs": []
    },
    {
      "cell_type": "code",
      "source": [
        "industry_df.head(10)"
      ],
      "metadata": {
        "execution": {
          "iopub.status.busy": "2022-02-02T19:07:42.918599Z",
          "iopub.execute_input": "2022-02-02T19:07:42.91892Z",
          "iopub.status.idle": "2022-02-02T19:07:42.929904Z",
          "shell.execute_reply.started": "2022-02-02T19:07:42.918878Z",
          "shell.execute_reply": "2022-02-02T19:07:42.929134Z"
        },
        "trusted": true,
        "id": "nIKW3uqOOKco"
      },
      "execution_count": null,
      "outputs": []
    },
    {
      "cell_type": "code",
      "source": [
        "plotly_plot_bar(industry_df.nlargest(10, 'count').sort_values(by='count'), x='count', y='industry', title='Top 10 industries with year founded in their companiy names')"
      ],
      "metadata": {
        "execution": {
          "iopub.status.busy": "2022-02-02T19:07:42.931334Z",
          "iopub.execute_input": "2022-02-02T19:07:42.931938Z",
          "iopub.status.idle": "2022-02-02T19:07:43.115117Z",
          "shell.execute_reply.started": "2022-02-02T19:07:42.931903Z",
          "shell.execute_reply": "2022-02-02T19:07:43.114301Z"
        },
        "trusted": true,
        "id": "BwDg5bQIOKco"
      },
      "execution_count": null,
      "outputs": []
    },
    {
      "cell_type": "markdown",
      "source": [
        "The bar chart plotted above shows top 10 industries with year founded in their companiy names. I think that it is obvious that sport companies are very associated with the year they were founded. The table above also proves this. Even though the sports industry has smaller number of companies in the dataset when compared to with the other industries ranking from 2-10, it is ranked as number 1 in the number of companiy names containing the year they were founded."
      ],
      "metadata": {
        "id": "8MuaBo9ZOKco"
      }
    },
    {
      "cell_type": "markdown",
      "source": [
        "#### year_in_name and year founded"
      ],
      "metadata": {
        "id": "ZGcyQQHIOKco"
      }
    },
    {
      "cell_type": "code",
      "source": [
        "year_df = name_year_df.groupby('year founded', as_index=False).agg({'name': 'count'}).rename(columns={'name': 'count'})\n",
        "year_counts_df = df['year founded'].value_counts().rename_axis('year founded').reset_index(name='total_count')\n",
        "year_df = year_df.merge(year_counts_df, left_on='year founded', right_on='year founded', how = 'left')\n",
        "year_df =  year_df.sort_values(by='count',ascending=False).reset_index(drop=True)\n",
        "year_df['year founded'] = year_df['year founded'].astype('string')\n",
        "year_df"
      ],
      "metadata": {
        "execution": {
          "iopub.status.busy": "2022-02-02T19:07:43.116539Z",
          "iopub.execute_input": "2022-02-02T19:07:43.117421Z",
          "iopub.status.idle": "2022-02-02T19:07:43.181677Z",
          "shell.execute_reply.started": "2022-02-02T19:07:43.117375Z",
          "shell.execute_reply": "2022-02-02T19:07:43.180856Z"
        },
        "trusted": true,
        "id": "O89brsu0OKco"
      },
      "execution_count": null,
      "outputs": []
    },
    {
      "cell_type": "code",
      "source": [
        "year_df.head(10)"
      ],
      "metadata": {
        "tags": [],
        "execution": {
          "iopub.status.busy": "2022-02-02T19:07:43.183385Z",
          "iopub.execute_input": "2022-02-02T19:07:43.18397Z",
          "iopub.status.idle": "2022-02-02T19:07:43.194765Z",
          "shell.execute_reply.started": "2022-02-02T19:07:43.183927Z",
          "shell.execute_reply": "2022-02-02T19:07:43.193922Z"
        },
        "trusted": true,
        "id": "mlQEraA7OKcp"
      },
      "execution_count": null,
      "outputs": []
    },
    {
      "cell_type": "code",
      "source": [
        "plotly_plot_bar(year_df.nlargest(10, 'count').sort_values(by='count'), x='count', y='year founded', title='Top 10 years where companies with year founded in their names were founded')"
      ],
      "metadata": {
        "execution": {
          "iopub.status.busy": "2022-02-02T19:07:43.195824Z",
          "iopub.execute_input": "2022-02-02T19:07:43.196028Z",
          "iopub.status.idle": "2022-02-02T19:07:43.328244Z",
          "shell.execute_reply.started": "2022-02-02T19:07:43.196004Z",
          "shell.execute_reply": "2022-02-02T19:07:43.327404Z"
        },
        "trusted": true,
        "id": "FeuPiU8BOKcp"
      },
      "execution_count": null,
      "outputs": []
    },
    {
      "cell_type": "markdown",
      "source": [
        "Even though the number of companies founded in 2000 in the dataset are relatively smaller, it is ranked as number 1 in the number of company names containing the year they were founded. I think this is because the year 2000 is special as it is the start of a millenium, a year that comes once in a thousand years."
      ],
      "metadata": {
        "id": "M5iW7KG6OKcp"
      }
    },
    {
      "cell_type": "markdown",
      "source": [
        "## Filtering Data and Answering Business Questions"
      ],
      "metadata": {
        "cell_id": "00166-432c448b-373a-42fd-9658-6adbebb1a65f",
        "deepnote_cell_type": "markdown",
        "id": "G1jc7S99OKcp"
      }
    },
    {
      "cell_type": "markdown",
      "source": [
        "### How many and which company names contain stop words?"
      ],
      "metadata": {
        "tags": [],
        "id": "nWmNsZpmOKcp"
      }
    },
    {
      "cell_type": "code",
      "source": [
        "def stopword_in_name(name):\n",
        "    # split words in name and replace the & symbol with 'and'\n",
        "    name_words = re.split(r'\\s|-',re.sub('&', ' and ', name))\n",
        "    return len([i for i in name_words if i in STOPWORDS])\n",
        "df['stopword_in_name_count'] = df['name'].apply(stopword_in_name)"
      ],
      "metadata": {
        "execution": {
          "iopub.status.busy": "2022-02-02T19:07:43.329732Z",
          "iopub.execute_input": "2022-02-02T19:07:43.330037Z",
          "iopub.status.idle": "2022-02-02T19:08:21.562728Z",
          "shell.execute_reply.started": "2022-02-02T19:07:43.329997Z",
          "shell.execute_reply": "2022-02-02T19:08:21.561831Z"
        },
        "trusted": true,
        "id": "Bp_2BmUOOKcp"
      },
      "execution_count": null,
      "outputs": []
    },
    {
      "cell_type": "code",
      "source": [
        "stopword_df = df[df['stopword_in_name_count'] > 0]\n",
        "stopword_df"
      ],
      "metadata": {
        "execution": {
          "iopub.status.busy": "2022-02-02T19:08:21.56394Z",
          "iopub.execute_input": "2022-02-02T19:08:21.564179Z",
          "iopub.status.idle": "2022-02-02T19:08:24.07537Z",
          "shell.execute_reply.started": "2022-02-02T19:08:21.564149Z",
          "shell.execute_reply": "2022-02-02T19:08:24.074547Z"
        },
        "trusted": true,
        "id": "R3pVtbhQOKcp"
      },
      "execution_count": null,
      "outputs": []
    },
    {
      "cell_type": "markdown",
      "source": [
        "There are more than 930,000 companies whose names contain atleast one stop word."
      ],
      "metadata": {
        "id": "Yb9OOmQ5OKcp"
      }
    },
    {
      "cell_type": "markdown",
      "source": [
        "### How many and which company names contain punctuations?"
      ],
      "metadata": {
        "id": "fDAS_yFtOKcq"
      }
    },
    {
      "cell_type": "code",
      "source": [
        "punc_df = df[df['name_punc_count'] > 0]\n",
        "punc_df"
      ],
      "metadata": {
        "execution": {
          "iopub.status.busy": "2022-02-02T19:08:24.076933Z",
          "iopub.execute_input": "2022-02-02T19:08:24.077426Z",
          "iopub.status.idle": "2022-02-02T19:08:26.921327Z",
          "shell.execute_reply.started": "2022-02-02T19:08:24.077384Z",
          "shell.execute_reply": "2022-02-02T19:08:26.920431Z"
        },
        "trusted": true,
        "id": "T9dMOz9-OKcq"
      },
      "execution_count": null,
      "outputs": []
    },
    {
      "cell_type": "markdown",
      "source": [
        "There are more than 1,700,000 companies whose names contain atleast one punctuation mark."
      ],
      "metadata": {
        "id": "m2mKNKIAOKcq"
      }
    },
    {
      "cell_type": "markdown",
      "source": [
        "### Which words are the most common in company names of each industry?"
      ],
      "metadata": {
        "id": "EU0SJwKoOKcq"
      }
    },
    {
      "cell_type": "code",
      "source": [
        "industries = list(df['industry'].unique())\n",
        "industry_name_words_dict = {}\n",
        "for industry in industries:\n",
        "    industry_df = df[df['industry'] == f'{industry}']\n",
        "    text = \" \".join(name for name in industry_df.name)\n",
        "    word_list = list(filter(lambda x: x!= '', re.split(r'\\s|-', text)))\n",
        "    common_words = [pair[0] for pair in collections.Counter(word_list).most_common(50)]\n",
        "    industry_name_words_dict[f'{industry}'] = common_words"
      ],
      "metadata": {
        "execution": {
          "iopub.status.busy": "2022-02-02T19:08:26.922978Z",
          "iopub.execute_input": "2022-02-02T19:08:26.923577Z",
          "iopub.status.idle": "2022-02-02T19:11:41.090697Z",
          "shell.execute_reply.started": "2022-02-02T19:08:26.923528Z",
          "shell.execute_reply": "2022-02-02T19:11:41.089803Z"
        },
        "trusted": true,
        "id": "y6o3c43xOKcq"
      },
      "execution_count": null,
      "outputs": []
    },
    {
      "cell_type": "code",
      "source": [
        "def append_list(a,b):\n",
        "    return a + b\n",
        "all_words = reduce(append_list, list(industry_name_words_dict.values()))"
      ],
      "metadata": {
        "tags": [],
        "execution": {
          "iopub.status.busy": "2022-02-02T19:11:41.092476Z",
          "iopub.execute_input": "2022-02-02T19:11:41.093261Z",
          "iopub.status.idle": "2022-02-02T19:11:41.101096Z",
          "shell.execute_reply.started": "2022-02-02T19:11:41.09319Z",
          "shell.execute_reply": "2022-02-02T19:11:41.100193Z"
        },
        "trusted": true,
        "id": "ts4LkbaEOKcq"
      },
      "execution_count": null,
      "outputs": []
    },
    {
      "cell_type": "code",
      "source": [
        "# select common words found in atleast 20 industries\n",
        "common_words = [pair[0] for pair in dict(collections.Counter(all_words)).items() if pair[1] > 20]\n",
        "words_to_be_removed = common_words + re.split(r'',string.punctuation) + list(STOPWORDS)"
      ],
      "metadata": {
        "execution": {
          "iopub.status.busy": "2022-02-02T19:11:41.102399Z",
          "iopub.execute_input": "2022-02-02T19:11:41.102647Z",
          "iopub.status.idle": "2022-02-02T19:11:41.117403Z",
          "shell.execute_reply.started": "2022-02-02T19:11:41.102609Z",
          "shell.execute_reply": "2022-02-02T19:11:41.116647Z"
        },
        "trusted": true,
        "id": "oy3OhJziOKcr"
      },
      "execution_count": null,
      "outputs": []
    },
    {
      "cell_type": "code",
      "source": [
        "for (industry, words) in industry_name_words_dict.items():\n",
        "    industry_name_words_dict[industry] = [word for word in words if word not in words_to_be_removed]"
      ],
      "metadata": {
        "execution": {
          "iopub.status.busy": "2022-02-02T19:11:41.11883Z",
          "iopub.execute_input": "2022-02-02T19:11:41.119337Z",
          "iopub.status.idle": "2022-02-02T19:11:41.14583Z",
          "shell.execute_reply.started": "2022-02-02T19:11:41.119302Z",
          "shell.execute_reply": "2022-02-02T19:11:41.144911Z"
        },
        "trusted": true,
        "id": "24-JKM0UOKcr"
      },
      "execution_count": null,
      "outputs": []
    },
    {
      "cell_type": "markdown",
      "source": [
        "We can look at common words in company names from a specific industry as follows."
      ],
      "metadata": {
        "id": "xuPmsZC3OKcr"
      }
    },
    {
      "cell_type": "code",
      "source": [
        "industry_name_words_dict['financial services']"
      ],
      "metadata": {
        "execution": {
          "iopub.status.busy": "2022-02-02T19:11:41.147102Z",
          "iopub.execute_input": "2022-02-02T19:11:41.147369Z",
          "iopub.status.idle": "2022-02-02T19:11:41.165174Z",
          "shell.execute_reply.started": "2022-02-02T19:11:41.147337Z",
          "shell.execute_reply": "2022-02-02T19:11:41.164217Z"
        },
        "trusted": true,
        "id": "qtB980VUOKcr"
      },
      "execution_count": null,
      "outputs": []
    },
    {
      "cell_type": "code",
      "source": [
        "def search_industry(word):\n",
        "    industries_list = []\n",
        "    for (industry, words) in industry_name_words_dict.items():\n",
        "        if word in words:\n",
        "            industries_list.append(industry)\n",
        "    return industries_list"
      ],
      "metadata": {
        "execution": {
          "iopub.status.busy": "2022-02-02T19:11:41.166534Z",
          "iopub.execute_input": "2022-02-02T19:11:41.166792Z",
          "iopub.status.idle": "2022-02-02T19:11:41.176438Z",
          "shell.execute_reply.started": "2022-02-02T19:11:41.16676Z",
          "shell.execute_reply": "2022-02-02T19:11:41.175733Z"
        },
        "trusted": true,
        "id": "6yHVMdTqOKcr"
      },
      "execution_count": null,
      "outputs": []
    },
    {
      "cell_type": "markdown",
      "source": [
        "To search for a word if it is in the list of most common word for industries we can use the function search_industry as shown below."
      ],
      "metadata": {
        "id": "mTysbfqXOKcr"
      }
    },
    {
      "cell_type": "code",
      "source": [
        "search_industry('communication')"
      ],
      "metadata": {
        "execution": {
          "iopub.status.busy": "2022-02-02T19:11:41.17767Z",
          "iopub.execute_input": "2022-02-02T19:11:41.178428Z",
          "iopub.status.idle": "2022-02-02T19:11:41.190693Z",
          "shell.execute_reply.started": "2022-02-02T19:11:41.178392Z",
          "shell.execute_reply": "2022-02-02T19:11:41.189802Z"
        },
        "trusted": true,
        "id": "zJ1_J2dcOKcr"
      },
      "execution_count": null,
      "outputs": []
    },
    {
      "cell_type": "markdown",
      "source": [
        "### Which words are the most common in company names of each country?"
      ],
      "metadata": {
        "tags": [],
        "id": "oAJ45xHKOKcs"
      }
    },
    {
      "cell_type": "code",
      "source": [
        "countries = list(df['country'].unique())\n",
        "country_name_words_dict = {}\n",
        "for country in countries:\n",
        "    country_df = df[df['country'] == f'{country}']\n",
        "    text = \" \".join(name for name in country_df.name)\n",
        "    word_list = list(filter(lambda x: x!= '', re.split(r'\\s|-', text)))\n",
        "    common_words = [pair[0] for pair in collections.Counter(word_list).most_common(50)]\n",
        "    country_name_words_dict[f'{country}'] = common_words"
      ],
      "metadata": {
        "execution": {
          "iopub.status.busy": "2022-02-02T19:11:41.192007Z",
          "iopub.execute_input": "2022-02-02T19:11:41.192751Z",
          "iopub.status.idle": "2022-02-02T19:15:30.795876Z",
          "shell.execute_reply.started": "2022-02-02T19:11:41.192714Z",
          "shell.execute_reply": "2022-02-02T19:15:30.794741Z"
        },
        "trusted": true,
        "id": "Spp7MnFjOKcs"
      },
      "execution_count": null,
      "outputs": []
    },
    {
      "cell_type": "code",
      "source": [
        "all_words = reduce(append_list, list(country_name_words_dict.values()))"
      ],
      "metadata": {
        "execution": {
          "iopub.status.busy": "2022-02-02T19:15:30.797285Z",
          "iopub.execute_input": "2022-02-02T19:15:30.79751Z",
          "iopub.status.idle": "2022-02-02T19:15:30.808378Z",
          "shell.execute_reply.started": "2022-02-02T19:15:30.797484Z",
          "shell.execute_reply": "2022-02-02T19:15:30.807585Z"
        },
        "trusted": true,
        "id": "v8wWPpJYOKcs"
      },
      "execution_count": null,
      "outputs": []
    },
    {
      "cell_type": "code",
      "source": [
        "# select common words found in atleast 20 countries\n",
        "common_words = [pair[0] for pair in dict(collections.Counter(all_words)).items() if pair[1] > 20]\n",
        "words_to_be_removed = common_words + re.split(r'',string.punctuation) + list(STOPWORDS)"
      ],
      "metadata": {
        "execution": {
          "iopub.status.busy": "2022-02-02T19:15:30.809662Z",
          "iopub.execute_input": "2022-02-02T19:15:30.809922Z",
          "iopub.status.idle": "2022-02-02T19:15:30.825997Z",
          "shell.execute_reply.started": "2022-02-02T19:15:30.809892Z",
          "shell.execute_reply": "2022-02-02T19:15:30.82534Z"
        },
        "trusted": true,
        "id": "d03rHqX8OKcs"
      },
      "execution_count": null,
      "outputs": []
    },
    {
      "cell_type": "code",
      "source": [
        "for (country, words) in country_name_words_dict.items():\n",
        "    country_name_words_dict[country] = [word for word in words if word not in words_to_be_removed]"
      ],
      "metadata": {
        "execution": {
          "iopub.status.busy": "2022-02-02T19:15:30.827329Z",
          "iopub.execute_input": "2022-02-02T19:15:30.82759Z",
          "iopub.status.idle": "2022-02-02T19:15:30.863399Z",
          "shell.execute_reply.started": "2022-02-02T19:15:30.827553Z",
          "shell.execute_reply": "2022-02-02T19:15:30.862446Z"
        },
        "trusted": true,
        "id": "efN0KDTmOKcs"
      },
      "execution_count": null,
      "outputs": []
    },
    {
      "cell_type": "markdown",
      "source": [
        "We can look at common words in company names from a specific country as follows."
      ],
      "metadata": {
        "id": "6xYEMCh8OKct"
      }
    },
    {
      "cell_type": "code",
      "source": [
        "country_name_words_dict['netherlands']"
      ],
      "metadata": {
        "execution": {
          "iopub.status.busy": "2022-02-02T19:15:30.864772Z",
          "iopub.execute_input": "2022-02-02T19:15:30.865041Z",
          "iopub.status.idle": "2022-02-02T19:15:30.873576Z",
          "shell.execute_reply.started": "2022-02-02T19:15:30.865008Z",
          "shell.execute_reply": "2022-02-02T19:15:30.8727Z"
        },
        "trusted": true,
        "id": "1DlZm5hgOKct"
      },
      "execution_count": null,
      "outputs": []
    },
    {
      "cell_type": "code",
      "source": [
        "def search_country(word):\n",
        "    countries_list = []\n",
        "    for (country, words) in country_name_words_dict.items():\n",
        "        if word in words:\n",
        "            countries_list.append(country)\n",
        "    return countries_list"
      ],
      "metadata": {
        "execution": {
          "iopub.status.busy": "2022-02-02T19:15:30.874693Z",
          "iopub.execute_input": "2022-02-02T19:15:30.874905Z",
          "iopub.status.idle": "2022-02-02T19:15:30.885575Z",
          "shell.execute_reply.started": "2022-02-02T19:15:30.874879Z",
          "shell.execute_reply": "2022-02-02T19:15:30.884888Z"
        },
        "trusted": true,
        "id": "YLHVGICwOKcu"
      },
      "execution_count": null,
      "outputs": []
    },
    {
      "cell_type": "markdown",
      "source": [
        "To search for a word if it is in the list of most common word for countries we can use the function search_country as shown below."
      ],
      "metadata": {
        "id": "vhz0cIPaOKcu"
      }
    },
    {
      "cell_type": "code",
      "source": [
        "search_country('communication')"
      ],
      "metadata": {
        "execution": {
          "iopub.status.busy": "2022-02-02T19:15:30.886608Z",
          "iopub.execute_input": "2022-02-02T19:15:30.887413Z",
          "iopub.status.idle": "2022-02-02T19:15:30.90037Z",
          "shell.execute_reply.started": "2022-02-02T19:15:30.887375Z",
          "shell.execute_reply": "2022-02-02T19:15:30.899515Z"
        },
        "trusted": true,
        "id": "HSSyaRRKOKcu"
      },
      "execution_count": null,
      "outputs": []
    },
    {
      "cell_type": "markdown",
      "source": [
        "### Which words are the most common in company names of each size range?"
      ],
      "metadata": {
        "id": "xW0KGysNOKcu"
      }
    },
    {
      "cell_type": "code",
      "source": [
        "size_ranges = list(df['size range'].unique())\n",
        "size_range_name_words_dict = {}\n",
        "for size_range in size_ranges:\n",
        "    size_range_df = df[df['size range'] == f'{size_range}']\n",
        "    text = \" \".join(name for name in size_range_df.name)\n",
        "    word_list = list(filter(lambda x: x!= '', re.split(r'\\s|-', text)))\n",
        "    common_words = [pair[0] for pair in collections.Counter(word_list).most_common(50)]\n",
        "    size_range_name_words_dict[f'{size_range}'] = common_words"
      ],
      "metadata": {
        "execution": {
          "iopub.status.busy": "2022-02-02T19:15:30.901987Z",
          "iopub.execute_input": "2022-02-02T19:15:30.902386Z",
          "iopub.status.idle": "2022-02-02T19:16:11.982649Z",
          "shell.execute_reply.started": "2022-02-02T19:15:30.902352Z",
          "shell.execute_reply": "2022-02-02T19:16:11.981436Z"
        },
        "trusted": true,
        "id": "bqT_g2rtOKcu"
      },
      "execution_count": null,
      "outputs": []
    },
    {
      "cell_type": "code",
      "source": [
        "all_words = reduce(append_list, list(size_range_name_words_dict.values()))"
      ],
      "metadata": {
        "tags": [],
        "execution": {
          "iopub.status.busy": "2022-02-02T19:16:11.984436Z",
          "iopub.execute_input": "2022-02-02T19:16:11.984944Z",
          "iopub.status.idle": "2022-02-02T19:16:11.990168Z",
          "shell.execute_reply.started": "2022-02-02T19:16:11.9849Z",
          "shell.execute_reply": "2022-02-02T19:16:11.989386Z"
        },
        "trusted": true,
        "id": "8t8kmuLuOKcu"
      },
      "execution_count": null,
      "outputs": []
    },
    {
      "cell_type": "code",
      "source": [
        "# select common words found in atleast 3 size ranges\n",
        "common_words = [pair[0] for pair in dict(collections.Counter(all_words)).items() if pair[1] > 2]\n",
        "words_to_be_removed = common_words + re.split(r'',string.punctuation) + list(STOPWORDS)"
      ],
      "metadata": {
        "execution": {
          "iopub.status.busy": "2022-02-02T19:16:11.991494Z",
          "iopub.execute_input": "2022-02-02T19:16:11.991732Z",
          "iopub.status.idle": "2022-02-02T19:16:12.003285Z",
          "shell.execute_reply.started": "2022-02-02T19:16:11.991702Z",
          "shell.execute_reply": "2022-02-02T19:16:12.002659Z"
        },
        "trusted": true,
        "id": "TCazAO9uOKcv"
      },
      "execution_count": null,
      "outputs": []
    },
    {
      "cell_type": "code",
      "source": [
        "for (size_range, words) in size_range_name_words_dict.items():\n",
        "    size_range_name_words_dict[size_range] = [word for word in words if word not in words_to_be_removed]"
      ],
      "metadata": {
        "execution": {
          "iopub.status.busy": "2022-02-02T19:16:12.004669Z",
          "iopub.execute_input": "2022-02-02T19:16:12.005104Z",
          "iopub.status.idle": "2022-02-02T19:16:12.015555Z",
          "shell.execute_reply.started": "2022-02-02T19:16:12.005072Z",
          "shell.execute_reply": "2022-02-02T19:16:12.014855Z"
        },
        "trusted": true,
        "id": "kqZGIj5aOKcv"
      },
      "execution_count": null,
      "outputs": []
    },
    {
      "cell_type": "markdown",
      "source": [
        "Let's look at common words in company names for each size range."
      ],
      "metadata": {
        "id": "4v7C6Ls9OKcv"
      }
    },
    {
      "cell_type": "code",
      "source": [
        "size_range_name_words_dict"
      ],
      "metadata": {
        "execution": {
          "iopub.status.busy": "2022-02-02T19:16:12.016837Z",
          "iopub.execute_input": "2022-02-02T19:16:12.017523Z",
          "iopub.status.idle": "2022-02-02T19:16:12.031078Z",
          "shell.execute_reply.started": "2022-02-02T19:16:12.017486Z",
          "shell.execute_reply": "2022-02-02T19:16:12.030415Z"
        },
        "trusted": true,
        "id": "75rrZsiGOKcv"
      },
      "execution_count": null,
      "outputs": []
    },
    {
      "cell_type": "code",
      "source": [
        "def search_size_range(word):\n",
        "    size_ranges_list = []\n",
        "    for (size_range, words) in size_range_name_words_dict.items():\n",
        "        if word in words:\n",
        "            size_ranges_list.append(size_range)\n",
        "    return size_ranges_list"
      ],
      "metadata": {
        "execution": {
          "iopub.status.busy": "2022-02-02T19:16:12.03279Z",
          "iopub.execute_input": "2022-02-02T19:16:12.033381Z",
          "iopub.status.idle": "2022-02-02T19:16:12.042121Z",
          "shell.execute_reply.started": "2022-02-02T19:16:12.033336Z",
          "shell.execute_reply": "2022-02-02T19:16:12.041451Z"
        },
        "trusted": true,
        "id": "YYKBZOACOKcv"
      },
      "execution_count": null,
      "outputs": []
    },
    {
      "cell_type": "markdown",
      "source": [
        "To search for a word if it is in the list of most common word for size_ranges we can use the function search_size_range as shown below."
      ],
      "metadata": {
        "id": "EjYDWsg6OKcv"
      }
    },
    {
      "cell_type": "code",
      "source": [
        "search_size_range('hotel')"
      ],
      "metadata": {
        "execution": {
          "iopub.status.busy": "2022-02-02T19:16:12.043779Z",
          "iopub.execute_input": "2022-02-02T19:16:12.044081Z",
          "iopub.status.idle": "2022-02-02T19:16:12.346728Z",
          "shell.execute_reply.started": "2022-02-02T19:16:12.044041Z",
          "shell.execute_reply": "2022-02-02T19:16:12.345773Z"
        },
        "trusted": true,
        "id": "_w3SPSPwOKcv"
      },
      "execution_count": null,
      "outputs": []
    },
    {
      "cell_type": "markdown",
      "source": [
        "### Which words are the most common in company names founded during each decade after 1800?"
      ],
      "metadata": {
        "id": "MzGBypTmOKc0"
      }
    },
    {
      "cell_type": "code",
      "source": [
        "df['decade'] = df['year founded'].apply(lambda x: f'{(x//10)*10}s')"
      ],
      "metadata": {
        "execution": {
          "iopub.status.busy": "2022-02-02T19:16:12.348189Z",
          "iopub.execute_input": "2022-02-02T19:16:12.34844Z",
          "iopub.status.idle": "2022-02-02T19:16:16.073716Z",
          "shell.execute_reply.started": "2022-02-02T19:16:12.348412Z",
          "shell.execute_reply": "2022-02-02T19:16:16.072796Z"
        },
        "trusted": true,
        "id": "x0DuYUT5OKc0"
      },
      "execution_count": null,
      "outputs": []
    },
    {
      "cell_type": "markdown",
      "source": [
        "Here we will considers companies with valid value for the column year founded."
      ],
      "metadata": {
        "id": "XqB18B2sOKc0"
      }
    },
    {
      "cell_type": "code",
      "source": [
        "decades = list(df['decade'].unique())\n",
        "decades.remove('0s')\n",
        "decade_name_words_dict = {}\n",
        "for decade in decades:\n",
        "    decade_df = df[df['decade'] == f'{decade}']\n",
        "    text = \" \".join(name for name in decade_df.name)\n",
        "    word_list = list(filter(lambda x: x!= '', re.split(r'\\s|-', text)))\n",
        "    common_words = [pair[0] for pair in collections.Counter(word_list).most_common(50)]\n",
        "    decade_name_words_dict[f'{decade}'] = common_words"
      ],
      "metadata": {
        "execution": {
          "iopub.status.busy": "2022-02-02T19:16:16.075471Z",
          "iopub.execute_input": "2022-02-02T19:16:16.075754Z",
          "iopub.status.idle": "2022-02-02T19:17:04.442716Z",
          "shell.execute_reply.started": "2022-02-02T19:16:16.075715Z",
          "shell.execute_reply": "2022-02-02T19:17:04.441879Z"
        },
        "trusted": true,
        "id": "qLE49uRWOKc0"
      },
      "execution_count": null,
      "outputs": []
    },
    {
      "cell_type": "code",
      "source": [
        "all_words = reduce(append_list, list(decade_name_words_dict.values()))"
      ],
      "metadata": {
        "execution": {
          "iopub.status.busy": "2022-02-02T19:17:04.444124Z",
          "iopub.execute_input": "2022-02-02T19:17:04.444915Z",
          "iopub.status.idle": "2022-02-02T19:17:04.450517Z",
          "shell.execute_reply.started": "2022-02-02T19:17:04.444866Z",
          "shell.execute_reply": "2022-02-02T19:17:04.449525Z"
        },
        "trusted": true,
        "id": "NvZo5rrROKc0"
      },
      "execution_count": null,
      "outputs": []
    },
    {
      "cell_type": "code",
      "source": [
        "# select common words found in atleast 10 decades\n",
        "common_words = [pair[0] for pair in dict(collections.Counter(all_words)).items() if pair[1] > 10]\n",
        "words_to_be_removed = common_words + re.split(r'',string.punctuation) + list(STOPWORDS)"
      ],
      "metadata": {
        "execution": {
          "iopub.status.busy": "2022-02-02T19:17:04.452273Z",
          "iopub.execute_input": "2022-02-02T19:17:04.452601Z",
          "iopub.status.idle": "2022-02-02T19:17:04.465714Z",
          "shell.execute_reply.started": "2022-02-02T19:17:04.45255Z",
          "shell.execute_reply": "2022-02-02T19:17:04.464781Z"
        },
        "trusted": true,
        "id": "2cHOifTPOKc1"
      },
      "execution_count": null,
      "outputs": []
    },
    {
      "cell_type": "code",
      "source": [
        "for (decade, words) in decade_name_words_dict.items():\n",
        "    decade_name_words_dict[decade] = [word for word in words if word not in words_to_be_removed]"
      ],
      "metadata": {
        "execution": {
          "iopub.status.busy": "2022-02-02T19:17:04.467149Z",
          "iopub.execute_input": "2022-02-02T19:17:04.467691Z",
          "iopub.status.idle": "2022-02-02T19:17:04.483197Z",
          "shell.execute_reply.started": "2022-02-02T19:17:04.467626Z",
          "shell.execute_reply": "2022-02-02T19:17:04.482434Z"
        },
        "trusted": true,
        "id": "5xkwHcGZOKc1"
      },
      "execution_count": null,
      "outputs": []
    },
    {
      "cell_type": "markdown",
      "source": [
        "We can look at common words in company names from a specific decade as follows."
      ],
      "metadata": {
        "id": "fPbe8KeUOKc1"
      }
    },
    {
      "cell_type": "code",
      "source": [
        "decade_name_words_dict['2000s']"
      ],
      "metadata": {
        "execution": {
          "iopub.status.busy": "2022-02-02T19:17:04.484644Z",
          "iopub.execute_input": "2022-02-02T19:17:04.48488Z",
          "iopub.status.idle": "2022-02-02T19:17:04.496991Z",
          "shell.execute_reply.started": "2022-02-02T19:17:04.484842Z",
          "shell.execute_reply": "2022-02-02T19:17:04.49603Z"
        },
        "trusted": true,
        "id": "7dY3gp2SOKc1"
      },
      "execution_count": null,
      "outputs": []
    },
    {
      "cell_type": "code",
      "source": [
        "def search_decade(word):\n",
        "    decades_list = []\n",
        "    for (decade, words) in decade_name_words_dict.items():\n",
        "        if word in words:\n",
        "            decades_list.append(decade)\n",
        "    return decades_list"
      ],
      "metadata": {
        "execution": {
          "iopub.status.busy": "2022-02-02T19:17:04.498374Z",
          "iopub.execute_input": "2022-02-02T19:17:04.498795Z",
          "iopub.status.idle": "2022-02-02T19:17:04.508143Z",
          "shell.execute_reply.started": "2022-02-02T19:17:04.498763Z",
          "shell.execute_reply": "2022-02-02T19:17:04.507218Z"
        },
        "trusted": true,
        "id": "I8FwH2YROKc1"
      },
      "execution_count": null,
      "outputs": []
    },
    {
      "cell_type": "markdown",
      "source": [
        "To search for a word if it is in the list of most common word for decades we can use the function search_decade as shown below."
      ],
      "metadata": {
        "id": "dBpdkuwpOKc1"
      }
    },
    {
      "cell_type": "code",
      "source": [
        "search_decade('software')"
      ],
      "metadata": {
        "execution": {
          "iopub.status.busy": "2022-02-02T19:17:04.50934Z",
          "iopub.execute_input": "2022-02-02T19:17:04.509787Z",
          "iopub.status.idle": "2022-02-02T19:17:04.523465Z",
          "shell.execute_reply.started": "2022-02-02T19:17:04.509751Z",
          "shell.execute_reply": "2022-02-02T19:17:04.522569Z"
        },
        "trusted": true,
        "id": "58Ut2CSGOKc1"
      },
      "execution_count": null,
      "outputs": []
    },
    {
      "cell_type": "markdown",
      "source": [
        "## Conclusions of EDA"
      ],
      "metadata": {
        "cell_id": "00192-41be88d6-f72a-4ecb-a4a0-565f523374da",
        "deepnote_cell_type": "markdown",
        "tags": [],
        "id": "HQhkau3tOKc2"
      }
    },
    {
      "cell_type": "markdown",
      "source": [
        "* The most common words are related to company structure like pvt, ltd, limited, llc, co, inc, group, and gmbh.\n",
        "* Country and industry names are also frequent.\n",
        "* Even though they are not frequent companies use single characters like s, b and v in their names. I assume that these characters are abbreviations and are mmostly followed by a peried(.).\n",
        "* The most common industry is 'infomation technoogy and services'.\n",
        "* More than 93% of the companies have employees less than or equal to 50.\n",
        "* Most companies are found in the biggest cities of the developed world like london, new york, madrid and paris.\n",
        "* On average chinese companies have many characters and words in their names when compared to other countries.\n",
        "* On average the countries 'Czechia', 'Slovenia', 'Slovakia', 'China', 'Croatia', 'Venezuela', 'Thailand', 'Taiwan', and 'Bosnia And Herzegovina' have the highest number of punctuation marks in their company names.\n",
        "* On average the countries 'Taiwan', 'Guadeloupe', 'South Korea', 'Venezuela', 'Albania', and 'Curaçao' have the highest number of digits in their company names.\n",
        "* 'Belarus', 'Russia', 'Turkey', 'Iran', and 'Kazakhstan' are the countries with the highest number of non-aschii characters in their company names on average.\n",
        "* 'United States', 'United Kingdom', 'Canada', 'India', and 'Australia' are top 5 countries with the highest number of companies with names containing atleast one word from their respective industry.\n",
        "* 'marketing and advertising',  'management consulting', 'construction', 'hospital & health care', and 'information technology and services' are top 5 industries with the highest number of companies with names containing atleast one word from their respective industry.\n",
        "* '2010', '2014', '2013', '2015', and '2012' are top 5 years  when with the highest number of companies with names containing atleast one word from their respective industry were founded.\n",
        "* 'United States', 'India', 'Australia', 'Canada', and 'France' are top 5 countries with the highest number of companies with names containing atleast one word from their respective locality.\n",
        "* 'information technology and services', 'non-profit organization management', 'education management', 'hospital & health care', and 'marketing and advertising' are top 5 industries with the highest number of companies with names containing atleast one word from their respective locality.\n",
        "* '2012', '2014', '2013', '2015', and '2010' are top 5 years  when with the highest number of companies with names containing atleast one word from their respective locality were founded.\n",
        "* 'sports',  'construction', 'information technology and services', 'marketing and advertising', and 'retail' are top 5 industries with the highest number of companies with names containing the year they were founded.\n",
        "* '2000', '2010', '2016', '2014', and '2015' are top 5 years  when with the highest number of companies with names containing the year they were founded."
      ],
      "metadata": {
        "cell_id": "00193-97579d3f-49dd-428f-ae39-0cd6806977e4",
        "deepnote_cell_type": "markdown",
        "id": "I14AsNLKOKc2"
      }
    }
  ]
}